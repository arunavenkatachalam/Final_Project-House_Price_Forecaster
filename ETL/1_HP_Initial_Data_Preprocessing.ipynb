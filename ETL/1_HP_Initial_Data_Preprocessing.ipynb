{
 "cells": [
  {
   "cell_type": "markdown",
   "metadata": {},
   "source": [
    "# House Prices Data Preprocessing\n"
   ]
  },
  {
   "cell_type": "code",
   "execution_count": 1,
   "metadata": {},
   "outputs": [],
   "source": [
    "# Dependencies and Setup\n",
    "import matplotlib.pyplot as plt\n",
    "import pandas as pd\n",
    "import numpy as np\n",
    "import scipy.stats as st\n",
    "import seaborn as sns\n",
    "\n",
    "#Libraries additionally added\n",
    "import statsmodels.api as sm\n",
    "from sklearn.linear_model import LinearRegression\n",
    "import ast\n",
    "\n",
    "#Regular Expressions\n",
    "import re\n",
    "\n",
    "# Study data files\n",
    "hp_train_data_path = \"../House_Prices_Data/house_prices_train.csv\"\n",
    "hp_test_data_path = \"../House_Prices_Data/house_prices_test.csv\"\n",
    "\n",
    "\n",
    "# Read the House Prices Train & Test data \n",
    "hp_train_df = pd.read_csv(hp_train_data_path)\n",
    "hp_test_df = pd.read_csv(hp_test_data_path)\n"
   ]
  },
  {
   "cell_type": "code",
   "execution_count": 2,
   "metadata": {},
   "outputs": [
    {
     "data": {
      "text/html": [
       "<div>\n",
       "<style scoped>\n",
       "    .dataframe tbody tr th:only-of-type {\n",
       "        vertical-align: middle;\n",
       "    }\n",
       "\n",
       "    .dataframe tbody tr th {\n",
       "        vertical-align: top;\n",
       "    }\n",
       "\n",
       "    .dataframe thead th {\n",
       "        text-align: right;\n",
       "    }\n",
       "</style>\n",
       "<table border=\"1\" class=\"dataframe\">\n",
       "  <thead>\n",
       "    <tr style=\"text-align: right;\">\n",
       "      <th></th>\n",
       "      <th>Id</th>\n",
       "      <th>MSSubClass</th>\n",
       "      <th>MSZoning</th>\n",
       "      <th>LotFrontage</th>\n",
       "      <th>LotArea</th>\n",
       "      <th>Street</th>\n",
       "      <th>Alley</th>\n",
       "      <th>LotShape</th>\n",
       "      <th>LandContour</th>\n",
       "      <th>Utilities</th>\n",
       "      <th>...</th>\n",
       "      <th>PoolArea</th>\n",
       "      <th>PoolQC</th>\n",
       "      <th>Fence</th>\n",
       "      <th>MiscFeature</th>\n",
       "      <th>MiscVal</th>\n",
       "      <th>MoSold</th>\n",
       "      <th>YrSold</th>\n",
       "      <th>SaleType</th>\n",
       "      <th>SaleCondition</th>\n",
       "      <th>SalePrice</th>\n",
       "    </tr>\n",
       "  </thead>\n",
       "  <tbody>\n",
       "    <tr>\n",
       "      <th>0</th>\n",
       "      <td>1</td>\n",
       "      <td>60</td>\n",
       "      <td>RL</td>\n",
       "      <td>65.0</td>\n",
       "      <td>8450</td>\n",
       "      <td>Pave</td>\n",
       "      <td>NaN</td>\n",
       "      <td>Reg</td>\n",
       "      <td>Lvl</td>\n",
       "      <td>AllPub</td>\n",
       "      <td>...</td>\n",
       "      <td>0</td>\n",
       "      <td>NaN</td>\n",
       "      <td>NaN</td>\n",
       "      <td>NaN</td>\n",
       "      <td>0</td>\n",
       "      <td>2</td>\n",
       "      <td>2008</td>\n",
       "      <td>WD</td>\n",
       "      <td>Normal</td>\n",
       "      <td>208500</td>\n",
       "    </tr>\n",
       "    <tr>\n",
       "      <th>1</th>\n",
       "      <td>2</td>\n",
       "      <td>20</td>\n",
       "      <td>RL</td>\n",
       "      <td>80.0</td>\n",
       "      <td>9600</td>\n",
       "      <td>Pave</td>\n",
       "      <td>NaN</td>\n",
       "      <td>Reg</td>\n",
       "      <td>Lvl</td>\n",
       "      <td>AllPub</td>\n",
       "      <td>...</td>\n",
       "      <td>0</td>\n",
       "      <td>NaN</td>\n",
       "      <td>NaN</td>\n",
       "      <td>NaN</td>\n",
       "      <td>0</td>\n",
       "      <td>5</td>\n",
       "      <td>2007</td>\n",
       "      <td>WD</td>\n",
       "      <td>Normal</td>\n",
       "      <td>181500</td>\n",
       "    </tr>\n",
       "    <tr>\n",
       "      <th>2</th>\n",
       "      <td>3</td>\n",
       "      <td>60</td>\n",
       "      <td>RL</td>\n",
       "      <td>68.0</td>\n",
       "      <td>11250</td>\n",
       "      <td>Pave</td>\n",
       "      <td>NaN</td>\n",
       "      <td>IR1</td>\n",
       "      <td>Lvl</td>\n",
       "      <td>AllPub</td>\n",
       "      <td>...</td>\n",
       "      <td>0</td>\n",
       "      <td>NaN</td>\n",
       "      <td>NaN</td>\n",
       "      <td>NaN</td>\n",
       "      <td>0</td>\n",
       "      <td>9</td>\n",
       "      <td>2008</td>\n",
       "      <td>WD</td>\n",
       "      <td>Normal</td>\n",
       "      <td>223500</td>\n",
       "    </tr>\n",
       "    <tr>\n",
       "      <th>3</th>\n",
       "      <td>4</td>\n",
       "      <td>70</td>\n",
       "      <td>RL</td>\n",
       "      <td>60.0</td>\n",
       "      <td>9550</td>\n",
       "      <td>Pave</td>\n",
       "      <td>NaN</td>\n",
       "      <td>IR1</td>\n",
       "      <td>Lvl</td>\n",
       "      <td>AllPub</td>\n",
       "      <td>...</td>\n",
       "      <td>0</td>\n",
       "      <td>NaN</td>\n",
       "      <td>NaN</td>\n",
       "      <td>NaN</td>\n",
       "      <td>0</td>\n",
       "      <td>2</td>\n",
       "      <td>2006</td>\n",
       "      <td>WD</td>\n",
       "      <td>Abnorml</td>\n",
       "      <td>140000</td>\n",
       "    </tr>\n",
       "    <tr>\n",
       "      <th>4</th>\n",
       "      <td>5</td>\n",
       "      <td>60</td>\n",
       "      <td>RL</td>\n",
       "      <td>84.0</td>\n",
       "      <td>14260</td>\n",
       "      <td>Pave</td>\n",
       "      <td>NaN</td>\n",
       "      <td>IR1</td>\n",
       "      <td>Lvl</td>\n",
       "      <td>AllPub</td>\n",
       "      <td>...</td>\n",
       "      <td>0</td>\n",
       "      <td>NaN</td>\n",
       "      <td>NaN</td>\n",
       "      <td>NaN</td>\n",
       "      <td>0</td>\n",
       "      <td>12</td>\n",
       "      <td>2008</td>\n",
       "      <td>WD</td>\n",
       "      <td>Normal</td>\n",
       "      <td>250000</td>\n",
       "    </tr>\n",
       "  </tbody>\n",
       "</table>\n",
       "<p>5 rows × 81 columns</p>\n",
       "</div>"
      ],
      "text/plain": [
       "   Id  MSSubClass MSZoning  LotFrontage  LotArea Street Alley LotShape  \\\n",
       "0   1          60       RL         65.0     8450   Pave   NaN      Reg   \n",
       "1   2          20       RL         80.0     9600   Pave   NaN      Reg   \n",
       "2   3          60       RL         68.0    11250   Pave   NaN      IR1   \n",
       "3   4          70       RL         60.0     9550   Pave   NaN      IR1   \n",
       "4   5          60       RL         84.0    14260   Pave   NaN      IR1   \n",
       "\n",
       "  LandContour Utilities  ... PoolArea PoolQC Fence MiscFeature MiscVal MoSold  \\\n",
       "0         Lvl    AllPub  ...        0    NaN   NaN         NaN       0      2   \n",
       "1         Lvl    AllPub  ...        0    NaN   NaN         NaN       0      5   \n",
       "2         Lvl    AllPub  ...        0    NaN   NaN         NaN       0      9   \n",
       "3         Lvl    AllPub  ...        0    NaN   NaN         NaN       0      2   \n",
       "4         Lvl    AllPub  ...        0    NaN   NaN         NaN       0     12   \n",
       "\n",
       "  YrSold  SaleType  SaleCondition  SalePrice  \n",
       "0   2008        WD         Normal     208500  \n",
       "1   2007        WD         Normal     181500  \n",
       "2   2008        WD         Normal     223500  \n",
       "3   2006        WD        Abnorml     140000  \n",
       "4   2008        WD         Normal     250000  \n",
       "\n",
       "[5 rows x 81 columns]"
      ]
     },
     "execution_count": 2,
     "metadata": {},
     "output_type": "execute_result"
    }
   ],
   "source": [
    "#Display the House Prices Train DataFrame\n",
    "hp_train_df.head()"
   ]
  },
  {
   "cell_type": "code",
   "execution_count": 3,
   "metadata": {},
   "outputs": [
    {
     "data": {
      "text/html": [
       "<div>\n",
       "<style scoped>\n",
       "    .dataframe tbody tr th:only-of-type {\n",
       "        vertical-align: middle;\n",
       "    }\n",
       "\n",
       "    .dataframe tbody tr th {\n",
       "        vertical-align: top;\n",
       "    }\n",
       "\n",
       "    .dataframe thead th {\n",
       "        text-align: right;\n",
       "    }\n",
       "</style>\n",
       "<table border=\"1\" class=\"dataframe\">\n",
       "  <thead>\n",
       "    <tr style=\"text-align: right;\">\n",
       "      <th></th>\n",
       "      <th>Id</th>\n",
       "      <th>MSSubClass</th>\n",
       "      <th>MSZoning</th>\n",
       "      <th>LotFrontage</th>\n",
       "      <th>LotArea</th>\n",
       "      <th>Street</th>\n",
       "      <th>Alley</th>\n",
       "      <th>LotShape</th>\n",
       "      <th>LandContour</th>\n",
       "      <th>Utilities</th>\n",
       "      <th>...</th>\n",
       "      <th>ScreenPorch</th>\n",
       "      <th>PoolArea</th>\n",
       "      <th>PoolQC</th>\n",
       "      <th>Fence</th>\n",
       "      <th>MiscFeature</th>\n",
       "      <th>MiscVal</th>\n",
       "      <th>MoSold</th>\n",
       "      <th>YrSold</th>\n",
       "      <th>SaleType</th>\n",
       "      <th>SaleCondition</th>\n",
       "    </tr>\n",
       "  </thead>\n",
       "  <tbody>\n",
       "    <tr>\n",
       "      <th>0</th>\n",
       "      <td>1461</td>\n",
       "      <td>20</td>\n",
       "      <td>RH</td>\n",
       "      <td>80.0</td>\n",
       "      <td>11622</td>\n",
       "      <td>Pave</td>\n",
       "      <td>NaN</td>\n",
       "      <td>Reg</td>\n",
       "      <td>Lvl</td>\n",
       "      <td>AllPub</td>\n",
       "      <td>...</td>\n",
       "      <td>120</td>\n",
       "      <td>0</td>\n",
       "      <td>NaN</td>\n",
       "      <td>MnPrv</td>\n",
       "      <td>NaN</td>\n",
       "      <td>0</td>\n",
       "      <td>6</td>\n",
       "      <td>2010</td>\n",
       "      <td>WD</td>\n",
       "      <td>Normal</td>\n",
       "    </tr>\n",
       "    <tr>\n",
       "      <th>1</th>\n",
       "      <td>1462</td>\n",
       "      <td>20</td>\n",
       "      <td>RL</td>\n",
       "      <td>81.0</td>\n",
       "      <td>14267</td>\n",
       "      <td>Pave</td>\n",
       "      <td>NaN</td>\n",
       "      <td>IR1</td>\n",
       "      <td>Lvl</td>\n",
       "      <td>AllPub</td>\n",
       "      <td>...</td>\n",
       "      <td>0</td>\n",
       "      <td>0</td>\n",
       "      <td>NaN</td>\n",
       "      <td>NaN</td>\n",
       "      <td>Gar2</td>\n",
       "      <td>12500</td>\n",
       "      <td>6</td>\n",
       "      <td>2010</td>\n",
       "      <td>WD</td>\n",
       "      <td>Normal</td>\n",
       "    </tr>\n",
       "    <tr>\n",
       "      <th>2</th>\n",
       "      <td>1463</td>\n",
       "      <td>60</td>\n",
       "      <td>RL</td>\n",
       "      <td>74.0</td>\n",
       "      <td>13830</td>\n",
       "      <td>Pave</td>\n",
       "      <td>NaN</td>\n",
       "      <td>IR1</td>\n",
       "      <td>Lvl</td>\n",
       "      <td>AllPub</td>\n",
       "      <td>...</td>\n",
       "      <td>0</td>\n",
       "      <td>0</td>\n",
       "      <td>NaN</td>\n",
       "      <td>MnPrv</td>\n",
       "      <td>NaN</td>\n",
       "      <td>0</td>\n",
       "      <td>3</td>\n",
       "      <td>2010</td>\n",
       "      <td>WD</td>\n",
       "      <td>Normal</td>\n",
       "    </tr>\n",
       "    <tr>\n",
       "      <th>3</th>\n",
       "      <td>1464</td>\n",
       "      <td>60</td>\n",
       "      <td>RL</td>\n",
       "      <td>78.0</td>\n",
       "      <td>9978</td>\n",
       "      <td>Pave</td>\n",
       "      <td>NaN</td>\n",
       "      <td>IR1</td>\n",
       "      <td>Lvl</td>\n",
       "      <td>AllPub</td>\n",
       "      <td>...</td>\n",
       "      <td>0</td>\n",
       "      <td>0</td>\n",
       "      <td>NaN</td>\n",
       "      <td>NaN</td>\n",
       "      <td>NaN</td>\n",
       "      <td>0</td>\n",
       "      <td>6</td>\n",
       "      <td>2010</td>\n",
       "      <td>WD</td>\n",
       "      <td>Normal</td>\n",
       "    </tr>\n",
       "    <tr>\n",
       "      <th>4</th>\n",
       "      <td>1465</td>\n",
       "      <td>120</td>\n",
       "      <td>RL</td>\n",
       "      <td>43.0</td>\n",
       "      <td>5005</td>\n",
       "      <td>Pave</td>\n",
       "      <td>NaN</td>\n",
       "      <td>IR1</td>\n",
       "      <td>HLS</td>\n",
       "      <td>AllPub</td>\n",
       "      <td>...</td>\n",
       "      <td>144</td>\n",
       "      <td>0</td>\n",
       "      <td>NaN</td>\n",
       "      <td>NaN</td>\n",
       "      <td>NaN</td>\n",
       "      <td>0</td>\n",
       "      <td>1</td>\n",
       "      <td>2010</td>\n",
       "      <td>WD</td>\n",
       "      <td>Normal</td>\n",
       "    </tr>\n",
       "  </tbody>\n",
       "</table>\n",
       "<p>5 rows × 80 columns</p>\n",
       "</div>"
      ],
      "text/plain": [
       "     Id  MSSubClass MSZoning  LotFrontage  LotArea Street Alley LotShape  \\\n",
       "0  1461          20       RH         80.0    11622   Pave   NaN      Reg   \n",
       "1  1462          20       RL         81.0    14267   Pave   NaN      IR1   \n",
       "2  1463          60       RL         74.0    13830   Pave   NaN      IR1   \n",
       "3  1464          60       RL         78.0     9978   Pave   NaN      IR1   \n",
       "4  1465         120       RL         43.0     5005   Pave   NaN      IR1   \n",
       "\n",
       "  LandContour Utilities  ... ScreenPorch PoolArea PoolQC  Fence MiscFeature  \\\n",
       "0         Lvl    AllPub  ...         120        0    NaN  MnPrv         NaN   \n",
       "1         Lvl    AllPub  ...           0        0    NaN    NaN        Gar2   \n",
       "2         Lvl    AllPub  ...           0        0    NaN  MnPrv         NaN   \n",
       "3         Lvl    AllPub  ...           0        0    NaN    NaN         NaN   \n",
       "4         HLS    AllPub  ...         144        0    NaN    NaN         NaN   \n",
       "\n",
       "  MiscVal MoSold  YrSold  SaleType  SaleCondition  \n",
       "0       0      6    2010        WD         Normal  \n",
       "1   12500      6    2010        WD         Normal  \n",
       "2       0      3    2010        WD         Normal  \n",
       "3       0      6    2010        WD         Normal  \n",
       "4       0      1    2010        WD         Normal  \n",
       "\n",
       "[5 rows x 80 columns]"
      ]
     },
     "execution_count": 3,
     "metadata": {},
     "output_type": "execute_result"
    }
   ],
   "source": [
    "#Display the House Prices Test  DataFrame\n",
    "hp_test_df.head()"
   ]
  },
  {
   "cell_type": "markdown",
   "metadata": {},
   "source": [
    "## Data Preprocessing for Train Data"
   ]
  },
  {
   "cell_type": "code",
   "execution_count": 4,
   "metadata": {
    "scrolled": true
   },
   "outputs": [
    {
     "name": "stdout",
     "output_type": "stream",
     "text": [
      "Training Dataset Info:\n",
      "<class 'pandas.core.frame.DataFrame'>\n",
      "RangeIndex: 1460 entries, 0 to 1459\n",
      "Data columns (total 81 columns):\n",
      " #   Column         Non-Null Count  Dtype  \n",
      "---  ------         --------------  -----  \n",
      " 0   Id             1460 non-null   int64  \n",
      " 1   MSSubClass     1460 non-null   int64  \n",
      " 2   MSZoning       1460 non-null   object \n",
      " 3   LotFrontage    1201 non-null   float64\n",
      " 4   LotArea        1460 non-null   int64  \n",
      " 5   Street         1460 non-null   object \n",
      " 6   Alley          91 non-null     object \n",
      " 7   LotShape       1460 non-null   object \n",
      " 8   LandContour    1460 non-null   object \n",
      " 9   Utilities      1460 non-null   object \n",
      " 10  LotConfig      1460 non-null   object \n",
      " 11  LandSlope      1460 non-null   object \n",
      " 12  Neighborhood   1460 non-null   object \n",
      " 13  Condition1     1460 non-null   object \n",
      " 14  Condition2     1460 non-null   object \n",
      " 15  BldgType       1460 non-null   object \n",
      " 16  HouseStyle     1460 non-null   object \n",
      " 17  OverallQual    1460 non-null   int64  \n",
      " 18  OverallCond    1460 non-null   int64  \n",
      " 19  YearBuilt      1460 non-null   int64  \n",
      " 20  YearRemodAdd   1460 non-null   int64  \n",
      " 21  RoofStyle      1460 non-null   object \n",
      " 22  RoofMatl       1460 non-null   object \n",
      " 23  Exterior1st    1460 non-null   object \n",
      " 24  Exterior2nd    1460 non-null   object \n",
      " 25  MasVnrType     1452 non-null   object \n",
      " 26  MasVnrArea     1452 non-null   float64\n",
      " 27  ExterQual      1460 non-null   object \n",
      " 28  ExterCond      1460 non-null   object \n",
      " 29  Foundation     1460 non-null   object \n",
      " 30  BsmtQual       1423 non-null   object \n",
      " 31  BsmtCond       1423 non-null   object \n",
      " 32  BsmtExposure   1422 non-null   object \n",
      " 33  BsmtFinType1   1423 non-null   object \n",
      " 34  BsmtFinSF1     1460 non-null   int64  \n",
      " 35  BsmtFinType2   1422 non-null   object \n",
      " 36  BsmtFinSF2     1460 non-null   int64  \n",
      " 37  BsmtUnfSF      1460 non-null   int64  \n",
      " 38  TotalBsmtSF    1460 non-null   int64  \n",
      " 39  Heating        1460 non-null   object \n",
      " 40  HeatingQC      1460 non-null   object \n",
      " 41  CentralAir     1460 non-null   object \n",
      " 42  Electrical     1459 non-null   object \n",
      " 43  1stFlrSF       1460 non-null   int64  \n",
      " 44  2ndFlrSF       1460 non-null   int64  \n",
      " 45  LowQualFinSF   1460 non-null   int64  \n",
      " 46  GrLivArea      1460 non-null   int64  \n",
      " 47  BsmtFullBath   1460 non-null   int64  \n",
      " 48  BsmtHalfBath   1460 non-null   int64  \n",
      " 49  FullBath       1460 non-null   int64  \n",
      " 50  HalfBath       1460 non-null   int64  \n",
      " 51  BedroomAbvGr   1460 non-null   int64  \n",
      " 52  KitchenAbvGr   1460 non-null   int64  \n",
      " 53  KitchenQual    1460 non-null   object \n",
      " 54  TotRmsAbvGrd   1460 non-null   int64  \n",
      " 55  Functional     1460 non-null   object \n",
      " 56  Fireplaces     1460 non-null   int64  \n",
      " 57  FireplaceQu    770 non-null    object \n",
      " 58  GarageType     1379 non-null   object \n",
      " 59  GarageYrBlt    1379 non-null   float64\n",
      " 60  GarageFinish   1379 non-null   object \n",
      " 61  GarageCars     1460 non-null   int64  \n",
      " 62  GarageArea     1460 non-null   int64  \n",
      " 63  GarageQual     1379 non-null   object \n",
      " 64  GarageCond     1379 non-null   object \n",
      " 65  PavedDrive     1460 non-null   object \n",
      " 66  WoodDeckSF     1460 non-null   int64  \n",
      " 67  OpenPorchSF    1460 non-null   int64  \n",
      " 68  EnclosedPorch  1460 non-null   int64  \n",
      " 69  3SsnPorch      1460 non-null   int64  \n",
      " 70  ScreenPorch    1460 non-null   int64  \n",
      " 71  PoolArea       1460 non-null   int64  \n",
      " 72  PoolQC         7 non-null      object \n",
      " 73  Fence          281 non-null    object \n",
      " 74  MiscFeature    54 non-null     object \n",
      " 75  MiscVal        1460 non-null   int64  \n",
      " 76  MoSold         1460 non-null   int64  \n",
      " 77  YrSold         1460 non-null   int64  \n",
      " 78  SaleType       1460 non-null   object \n",
      " 79  SaleCondition  1460 non-null   object \n",
      " 80  SalePrice      1460 non-null   int64  \n",
      "dtypes: float64(3), int64(35), object(43)\n",
      "memory usage: 924.0+ KB\n",
      "None\n"
     ]
    }
   ],
   "source": [
    "# Display basic information about the training dataset\n",
    "print(\"Training Dataset Info:\")\n",
    "print(hp_train_df.info())"
   ]
  },
  {
   "cell_type": "code",
   "execution_count": 5,
   "metadata": {},
   "outputs": [],
   "source": [
    "# Display basic statistics for numerical features in the training dataset\n",
    "#print(\"\\nTraining Dataset Statistics:\")\n",
    "#print(hp_train_df.describe())"
   ]
  },
  {
   "cell_type": "code",
   "execution_count": 6,
   "metadata": {},
   "outputs": [
    {
     "name": "stdout",
     "output_type": "stream",
     "text": [
      "Columns with Missing Values:\n",
      "LotFrontage      259\n",
      "Alley           1369\n",
      "MasVnrType         8\n",
      "MasVnrArea         8\n",
      "BsmtQual          37\n",
      "BsmtCond          37\n",
      "BsmtExposure      38\n",
      "BsmtFinType1      37\n",
      "BsmtFinType2      38\n",
      "Electrical         1\n",
      "FireplaceQu      690\n",
      "GarageType        81\n",
      "GarageYrBlt       81\n",
      "GarageFinish      81\n",
      "GarageQual        81\n",
      "GarageCond        81\n",
      "PoolQC          1453\n",
      "Fence           1179\n",
      "MiscFeature     1406\n",
      "dtype: int64\n"
     ]
    }
   ],
   "source": [
    "# Display columns with missing values and their counts\n",
    "missing_values = hp_train_df.isnull().sum()\n",
    "missing_columns = missing_values[missing_values > 0]\n",
    "print(\"Columns with Missing Values:\")\n",
    "print(missing_columns)\n"
   ]
  },
  {
   "cell_type": "markdown",
   "metadata": {},
   "source": [
    "## Handle Null Values hp_train_df"
   ]
  },
  {
   "cell_type": "code",
   "execution_count": 7,
   "metadata": {},
   "outputs": [],
   "source": [
    "# Handle missing values\n",
    "# Dropping columns with a high percentage of missing values  >1000\n",
    "## Only 'FireplaceQu' have 690\n",
    "\n",
    "# columns = ['Alley', 'FireplaceQu', 'PoolQC', 'Fence', 'MiscFeature']\n",
    "# hp_train_df.drop(columns=columns, inplace=True)"
   ]
  },
  {
   "cell_type": "code",
   "execution_count": 8,
   "metadata": {},
   "outputs": [
    {
     "name": "stdout",
     "output_type": "stream",
     "text": [
      "Columns with Missing Values:\n",
      "LotFrontage      259\n",
      "Alley           1369\n",
      "MasVnrType         8\n",
      "MasVnrArea         8\n",
      "BsmtQual          37\n",
      "BsmtCond          37\n",
      "BsmtExposure      38\n",
      "BsmtFinType1      37\n",
      "BsmtFinType2      38\n",
      "Electrical         1\n",
      "FireplaceQu      690\n",
      "GarageType        81\n",
      "GarageYrBlt       81\n",
      "GarageFinish      81\n",
      "GarageQual        81\n",
      "GarageCond        81\n",
      "PoolQC          1453\n",
      "Fence           1179\n",
      "MiscFeature     1406\n",
      "dtype: int64\n"
     ]
    }
   ],
   "source": [
    "# Reveiw the columns after dropping 5 columns wiht high percentages of missing value\n",
    "missing_values = hp_train_df.isnull().sum()\n",
    "missing_columns = missing_values[missing_values > 0]\n",
    "print(\"Columns with Missing Values:\")\n",
    "print(missing_columns)\n"
   ]
  },
  {
   "cell_type": "markdown",
   "metadata": {},
   "source": [
    "## Impute Missing Values hp_train_df"
   ]
  },
  {
   "cell_type": "markdown",
   "metadata": {},
   "source": [
    "    \n",
    "    ## LotFrontage : Since the area of each street connected to the house property most likely have a similar area to other houses in its neighborhood , we can fill in missing values by the median LotFrontage of the neighborhood."
   ]
  },
  {
   "cell_type": "code",
   "execution_count": 9,
   "metadata": {},
   "outputs": [],
   "source": [
    "# Group by neighborhood and fill in missing value by the median LotFrontage of all the neighborhood\n",
    "hp_train_df[\"LotFrontage\"] = hp_train_df.groupby(\"Neighborhood\")[\"LotFrontage\"].transform(\n",
    "    lambda x: x.fillna(x.median()))\n",
    "\n",
    "# Alley : data description says NA means \"no alley access\"\n",
    "hp_train_df[\"Alley\"] = hp_train_df[\"Alley\"].fillna(\"None\")\n",
    "\n",
    "# MasVnrArea and MasVnrType : NA most likely means no masonry veneer for these houses. \n",
    "# We can fill 0 for the area and None for the type.\n",
    "hp_train_df[\"MasVnrType\"] = hp_train_df[\"MasVnrType\"].fillna(\"None\")\n",
    "hp_train_df[\"MasVnrArea\"] = hp_train_df[\"MasVnrArea\"].fillna(0)\n",
    "\n",
    "# BsmtQual, BsmtCond, BsmtExposure, BsmtFinType1, and BsmtFinType2:\n",
    "# For all these categorical basement-related features, NaN means that there is no basement.\n",
    "for col in ('BsmtQual', 'BsmtCond', 'BsmtExposure', 'BsmtFinType1', 'BsmtFinType2'):\n",
    "    hp_train_df[col] = hp_train_df[col].fillna('None')\n",
    "\n",
    "# BsmtFinSF1, BsmtFinSF2, BsmtUnfSF, TotalBsmtSF, BsmtFullBath, and BsmtHalfBath: missing values are likely zero for having no basement\n",
    "for col in ('BsmtFinSF1', 'BsmtFinSF2', 'BsmtUnfSF', 'TotalBsmtSF', 'BsmtFullBath', 'BsmtHalfBath'):\n",
    "    hp_train_df[col] = hp_train_df[col].fillna(0)\n",
    "\n",
    "# Electrical : It has one NA value. Since this feature has mostly 'SBrkr', we can set that for the missing value.\n",
    "hp_train_df['Electrical'] = hp_train_df['Electrical'].fillna(hp_train_df['Electrical'].mode()[0])\n",
    "\n",
    "# FireplaceQu : data description says NA means \"no fireplace\"\n",
    "hp_train_df[\"FireplaceQu\"] = hp_train_df[\"FireplaceQu\"].fillna(\"None\")\n",
    "\n",
    "# GarageType, GarageFinish, GarageQual, and GarageCond: Replacing missing data with None\n",
    "for col in ('GarageType', 'GarageFinish', 'GarageQual', 'GarageCond'):\n",
    "    hp_train_df[col] = hp_train_df[col].fillna('None')\n",
    "\n",
    "# GarageYrBlt, GarageArea, and GarageCars: Replacing missing data with 0 (Since No garage = no cars in such garage.)\n",
    "for col in ('GarageYrBlt', 'GarageArea', 'GarageCars'):\n",
    "    hp_train_df[col] = hp_train_df[col].fillna(0)\n",
    "\n",
    "# PoolQC: data description says NA means \"No Pool\".\n",
    "# That makes sense, given the huge ratio of missing value (+99%) and the majority of houses have no Pool at all in general.\n",
    "hp_train_df[\"PoolQC\"] = hp_train_df[\"PoolQC\"].fillna(\"None\")\n",
    "\n",
    "# Fence: data description says NA means \"no fence\"\n",
    "hp_train_df[\"Fence\"] = hp_train_df[\"Fence\"].fillna(\"None\")\n",
    "\n",
    "# MiscFeature: data description says NA means \"no misc feature\"\n",
    "hp_train_df[\"MiscFeature\"] = hp_train_df[\"MiscFeature\"].fillna(\"None\")"
   ]
  },
  {
   "cell_type": "markdown",
   "metadata": {},
   "source": [
    "## If other columns shows missing values then apply "
   ]
  },
  {
   "cell_type": "code",
   "execution_count": 10,
   "metadata": {},
   "outputs": [],
   "source": [
    "# # Impute missing values in numerical columns with the mean\n",
    "# hp_train_df.fillna(hp_train_df.mean(), inplace=True)\n",
    "\n",
    "# # Impute missing values in categorical columns with the mode\n",
    "# hp_train_df.fillna(hp_train_df.mode().iloc[0], inplace=True)\n"
   ]
  },
  {
   "cell_type": "markdown",
   "metadata": {},
   "source": [
    "# Review hp_train_df for missing values"
   ]
  },
  {
   "cell_type": "code",
   "execution_count": 11,
   "metadata": {},
   "outputs": [
    {
     "name": "stdout",
     "output_type": "stream",
     "text": [
      "Columns with Missing Values:\n",
      "Series([], dtype: int64)\n"
     ]
    }
   ],
   "source": [
    "# Reveiw the columns after:\n",
    "# dropping columns wiht high percentages of missing value\n",
    "# Fill null values with imputation strategy\n",
    "\n",
    "missing_values = hp_train_df.isnull().sum()\n",
    "missing_columns = missing_values[missing_values > 0]\n",
    "print(\"Columns with Missing Values:\")\n",
    "print(missing_columns)\n"
   ]
  },
  {
   "cell_type": "markdown",
   "metadata": {},
   "source": [
    "## Check duplicates value for hp_train_df"
   ]
  },
  {
   "cell_type": "code",
   "execution_count": 12,
   "metadata": {},
   "outputs": [
    {
     "data": {
      "text/plain": [
       "Id               1460\n",
       "MSSubClass         15\n",
       "MSZoning            5\n",
       "LotFrontage       115\n",
       "LotArea          1073\n",
       "                 ... \n",
       "MoSold             12\n",
       "YrSold              5\n",
       "SaleType            9\n",
       "SaleCondition       6\n",
       "SalePrice         663\n",
       "Length: 81, dtype: int64"
      ]
     },
     "execution_count": 12,
     "metadata": {},
     "output_type": "execute_result"
    }
   ],
   "source": [
    "# Check the number of unique values in each column\n",
    "hp_train_df.nunique()"
   ]
  },
  {
   "cell_type": "code",
   "execution_count": 13,
   "metadata": {},
   "outputs": [
    {
     "name": "stdout",
     "output_type": "stream",
     "text": [
      "No duplicate rows based on 'Id' column.\n"
     ]
    }
   ],
   "source": [
    "# Check for duplicated values in the 'Id' column\n",
    "subset_columns = ['Id']\n",
    "duplicate_rows_subset = hp_train_df[hp_train_df.duplicated(subset=subset_columns)]\n",
    "if duplicate_rows_subset.empty:\n",
    "    print(\"No duplicate rows based on 'Id' column.\")\n",
    "else:\n",
    "    print(\"Duplicate rows based on 'Id' column:\")\n",
    "    print(duplicate_rows_subset)\n"
   ]
  },
  {
   "cell_type": "markdown",
   "metadata": {},
   "source": [
    "## Convert necessary columns to appropriate data types"
   ]
  },
  {
   "cell_type": "code",
   "execution_count": 14,
   "metadata": {},
   "outputs": [],
   "source": [
    "# Convert 'LotFrontage' to int\n",
    "hp_train_df['LotFrontage'] = hp_train_df['LotFrontage'].astype(int)"
   ]
  },
  {
   "cell_type": "code",
   "execution_count": 15,
   "metadata": {},
   "outputs": [],
   "source": [
    "# Convert necessary columns to appropriate data types\n",
    "hp_train_df['MSSubClass'] = hp_train_df['MSSubClass'].astype('category')\n",
    "hp_train_df['MSZoning'] = hp_train_df['MSZoning'].astype('category')\n",
    "hp_train_df['Street'] = hp_train_df['Street'].astype('category')\n",
    "hp_train_df['LotShape'] = hp_train_df['LotShape'].astype('category')\n",
    "hp_train_df['LandContour'] = hp_train_df['LandContour'].astype('category')\n"
   ]
  },
  {
   "cell_type": "markdown",
   "metadata": {},
   "source": [
    "## Format Columns through Binning \n",
    "\n",
    "## Handle each necessary features using binning that have high category counts "
   ]
  },
  {
   "cell_type": "code",
   "execution_count": 16,
   "metadata": {},
   "outputs": [
    {
     "data": {
      "text/plain": [
       "Index(['Id', 'MSSubClass', 'MSZoning', 'LotFrontage', 'LotArea', 'Street',\n",
       "       'Alley', 'LotShape', 'LandContour', 'Utilities', 'LotConfig',\n",
       "       'LandSlope', 'Neighborhood', 'Condition1', 'Condition2', 'BldgType',\n",
       "       'HouseStyle', 'OverallQual', 'OverallCond', 'YearBuilt', 'YearRemodAdd',\n",
       "       'RoofStyle', 'RoofMatl', 'Exterior1st', 'Exterior2nd', 'MasVnrType',\n",
       "       'MasVnrArea', 'ExterQual', 'ExterCond', 'Foundation', 'BsmtQual',\n",
       "       'BsmtCond', 'BsmtExposure', 'BsmtFinType1', 'BsmtFinSF1',\n",
       "       'BsmtFinType2', 'BsmtFinSF2', 'BsmtUnfSF', 'TotalBsmtSF', 'Heating',\n",
       "       'HeatingQC', 'CentralAir', 'Electrical', '1stFlrSF', '2ndFlrSF',\n",
       "       'LowQualFinSF', 'GrLivArea', 'BsmtFullBath', 'BsmtHalfBath', 'FullBath',\n",
       "       'HalfBath', 'BedroomAbvGr', 'KitchenAbvGr', 'KitchenQual',\n",
       "       'TotRmsAbvGrd', 'Functional', 'Fireplaces', 'FireplaceQu', 'GarageType',\n",
       "       'GarageYrBlt', 'GarageFinish', 'GarageCars', 'GarageArea', 'GarageQual',\n",
       "       'GarageCond', 'PavedDrive', 'WoodDeckSF', 'OpenPorchSF',\n",
       "       'EnclosedPorch', '3SsnPorch', 'ScreenPorch', 'PoolArea', 'PoolQC',\n",
       "       'Fence', 'MiscFeature', 'MiscVal', 'MoSold', 'YrSold', 'SaleType',\n",
       "       'SaleCondition', 'SalePrice'],\n",
       "      dtype='object')"
      ]
     },
     "execution_count": 16,
     "metadata": {},
     "output_type": "execute_result"
    }
   ],
   "source": [
    "hp_train_df.columns\n"
   ]
  },
  {
   "cell_type": "code",
   "execution_count": 17,
   "metadata": {},
   "outputs": [
    {
     "name": "stdout",
     "output_type": "stream",
     "text": [
      " Unique values Id count: 1460\n",
      "\n",
      " Unique values MSSubClass count: 15\n",
      "\n",
      " Unique values MSZoning count: 5\n",
      "\n",
      " Unique values LotFrontage count: 110\n",
      "\n",
      " Unique values LotArea count: 1073\n",
      "\n",
      " Unique values Street count: 2\n",
      "\n",
      " Unique values Alley count: 3\n",
      "\n",
      " Unique values LotShape count: 4\n",
      "\n",
      " Unique values LandContour count: 4\n",
      "\n",
      " Unique values Utilities count: 2\n",
      "\n",
      " Unique values LotConfig count: 5\n",
      "\n",
      " Unique values LandSlope count: 3\n",
      "\n",
      " Unique values Neighborhood count: 25\n",
      "\n",
      " Unique values Condition1 count: 9\n",
      "\n",
      " Unique values Condition2 count: 8\n",
      "\n",
      " Unique values BldgType count: 5\n",
      "\n",
      " Unique values HouseStyle count: 8\n",
      "\n",
      " Unique values OverallQual count: 10\n",
      "\n",
      " Unique values OverallCond count: 9\n",
      "\n",
      " Unique values YearBuilt count: 112\n",
      "\n",
      " Unique values YearRemodAdd count: 61\n",
      "\n",
      " Unique values RoofStyle count: 6\n",
      "\n",
      " Unique values RoofMatl count: 8\n",
      "\n",
      " Unique values Exterior1st count: 15\n",
      "\n",
      " Unique values Exterior2nd count: 16\n",
      "\n",
      " Unique values MasVnrType count: 4\n",
      "\n",
      " Unique values MasVnrArea count: 327\n",
      "\n",
      " Unique values ExterQual count: 4\n",
      "\n",
      " Unique values ExterCond count: 5\n",
      "\n",
      " Unique values Foundation count: 6\n",
      "\n",
      " Unique values BsmtQual count: 5\n",
      "\n",
      " Unique values BsmtCond count: 5\n",
      "\n",
      " Unique values BsmtExposure count: 5\n",
      "\n",
      " Unique values BsmtFinType1 count: 7\n",
      "\n",
      " Unique values BsmtFinSF1 count: 637\n",
      "\n",
      " Unique values BsmtFinType2 count: 7\n",
      "\n",
      " Unique values BsmtFinSF2 count: 144\n",
      "\n",
      " Unique values BsmtUnfSF count: 780\n",
      "\n",
      " Unique values TotalBsmtSF count: 721\n",
      "\n",
      " Unique values Heating count: 6\n",
      "\n",
      " Unique values HeatingQC count: 5\n",
      "\n",
      " Unique values CentralAir count: 2\n",
      "\n",
      " Unique values Electrical count: 5\n",
      "\n",
      " Unique values 1stFlrSF count: 753\n",
      "\n",
      " Unique values 2ndFlrSF count: 417\n",
      "\n",
      " Unique values LowQualFinSF count: 24\n",
      "\n",
      " Unique values GrLivArea count: 861\n",
      "\n",
      " Unique values BsmtFullBath count: 4\n",
      "\n",
      " Unique values BsmtHalfBath count: 3\n",
      "\n",
      " Unique values FullBath count: 4\n",
      "\n",
      " Unique values HalfBath count: 3\n",
      "\n",
      " Unique values BedroomAbvGr count: 8\n",
      "\n",
      " Unique values KitchenAbvGr count: 4\n",
      "\n",
      " Unique values KitchenQual count: 4\n",
      "\n",
      " Unique values TotRmsAbvGrd count: 12\n",
      "\n",
      " Unique values Functional count: 7\n",
      "\n",
      " Unique values Fireplaces count: 4\n",
      "\n",
      " Unique values FireplaceQu count: 6\n",
      "\n",
      " Unique values GarageType count: 7\n",
      "\n",
      " Unique values GarageYrBlt count: 98\n",
      "\n",
      " Unique values GarageFinish count: 4\n",
      "\n",
      " Unique values GarageCars count: 5\n",
      "\n",
      " Unique values GarageArea count: 441\n",
      "\n",
      " Unique values GarageQual count: 6\n",
      "\n",
      " Unique values GarageCond count: 6\n",
      "\n",
      " Unique values PavedDrive count: 3\n",
      "\n",
      " Unique values WoodDeckSF count: 274\n",
      "\n",
      " Unique values OpenPorchSF count: 202\n",
      "\n",
      " Unique values EnclosedPorch count: 120\n",
      "\n",
      " Unique values 3SsnPorch count: 20\n",
      "\n",
      " Unique values ScreenPorch count: 76\n",
      "\n",
      " Unique values PoolArea count: 8\n",
      "\n",
      " Unique values PoolQC count: 4\n",
      "\n",
      " Unique values Fence count: 5\n",
      "\n",
      " Unique values MiscFeature count: 5\n",
      "\n",
      " Unique values MiscVal count: 21\n",
      "\n",
      " Unique values MoSold count: 12\n",
      "\n",
      " Unique values YrSold count: 5\n",
      "\n",
      " Unique values SaleType count: 9\n",
      "\n",
      " Unique values SaleCondition count: 6\n",
      "\n",
      " Unique values SalePrice count: 663\n",
      "\n"
     ]
    }
   ],
   "source": [
    "for column in hp_train_df.columns:\n",
    "    unique_values = hp_train_df[column].unique()\n",
    "    print(f\" Unique values {column} count: {len(unique_values)}\\n\")"
   ]
  },
  {
   "cell_type": "markdown",
   "metadata": {},
   "source": [
    "## Bin MSSubClass"
   ]
  },
  {
   "cell_type": "code",
   "execution_count": 18,
   "metadata": {},
   "outputs": [],
   "source": [
    "# # Look at MSSubClass value counts for binning\n",
    "# hp_train_df['MSSubClass'].value_counts()"
   ]
  },
  {
   "cell_type": "code",
   "execution_count": 19,
   "metadata": {},
   "outputs": [],
   "source": [
    "# # Choose a cutoff value and create a list of MSSubClass to be replaced\n",
    "# # use the variable name `MSSubClass_to_replace`\n",
    "# cutoff_value = 90\n",
    "\n",
    "# # Get the counts of each MSSubClass\n",
    "# MSSubClass_counts = hp_train_df['MSSubClass'].value_counts()\n",
    "\n",
    "# # Identify MSSubClass values to be replaced\n",
    "# MSSubClass_to_replace = list(MSSubClass_counts[MSSubClass_counts < cutoff_value].index)\n",
    "\n",
    "# # Replace in the DataFrame\n",
    "# for subclass in MSSubClass_to_replace:\n",
    "#     hp_train_df['MSSubClass'] = hp_train_df['MSSubClass'].replace(subclass, 'Other')\n",
    "\n",
    "# # Check to make sure binning was successful\n",
    "# print(hp_train_df['MSSubClass'].value_counts())\n"
   ]
  },
  {
   "cell_type": "markdown",
   "metadata": {},
   "source": [
    " ## Bin LotFrontage"
   ]
  },
  {
   "cell_type": "code",
   "execution_count": 20,
   "metadata": {},
   "outputs": [
    {
     "data": {
      "text/plain": [
       "60     152\n",
       "80     112\n",
       "70      94\n",
       "65      82\n",
       "73      78\n",
       "      ... \n",
       "137      1\n",
       "141      1\n",
       "38       1\n",
       "140      1\n",
       "46       1\n",
       "Name: LotFrontage, Length: 110, dtype: int64"
      ]
     },
     "execution_count": 20,
     "metadata": {},
     "output_type": "execute_result"
    }
   ],
   "source": [
    "# Look at LotFrontage  value counts for binning\n",
    "hp_train_df['LotFrontage'].value_counts()"
   ]
  },
  {
   "cell_type": "code",
   "execution_count": 21,
   "metadata": {},
   "outputs": [
    {
     "name": "stdout",
     "output_type": "stream",
     "text": [
      "Other    942\n",
      "60       152\n",
      "80       112\n",
      "70        94\n",
      "65        82\n",
      "73        78\n",
      "Name: LotFrontage, dtype: int64\n"
     ]
    }
   ],
   "source": [
    "# Choose a cutoff value and create a list of LotFrontage values to be replaced\n",
    "# use the variable name `LotFrontage_to_replace`\n",
    "cutoff_value = 60\n",
    "\n",
    "# Get the counts of each LotFrontage value\n",
    "LotFrontage_counts = hp_train_df['LotFrontage'].value_counts()\n",
    "\n",
    "# Identify LotFrontage values to be replaced\n",
    "LotFrontage_to_replace = list(LotFrontage_counts[LotFrontage_counts < cutoff_value].index)\n",
    "\n",
    "# Replace in the DataFrame\n",
    "for frontage_value in LotFrontage_to_replace:\n",
    "    hp_train_df['LotFrontage'] = hp_train_df['LotFrontage'].replace(frontage_value, 'Other')\n",
    "\n",
    "# Check to make sure binning was successful\n",
    "print(hp_train_df['LotFrontage'].value_counts())\n"
   ]
  },
  {
   "cell_type": "markdown",
   "metadata": {},
   "source": [
    "## Bin Neighborhood"
   ]
  },
  {
   "cell_type": "code",
   "execution_count": 22,
   "metadata": {},
   "outputs": [
    {
     "data": {
      "text/plain": [
       "NAmes      225\n",
       "CollgCr    150\n",
       "OldTown    113\n",
       "Edwards    100\n",
       "Somerst     86\n",
       "Gilbert     79\n",
       "NridgHt     77\n",
       "Sawyer      74\n",
       "NWAmes      73\n",
       "SawyerW     59\n",
       "BrkSide     58\n",
       "Crawfor     51\n",
       "Mitchel     49\n",
       "NoRidge     41\n",
       "Timber      38\n",
       "IDOTRR      37\n",
       "ClearCr     28\n",
       "StoneBr     25\n",
       "SWISU       25\n",
       "MeadowV     17\n",
       "Blmngtn     17\n",
       "BrDale      16\n",
       "Veenker     11\n",
       "NPkVill      9\n",
       "Blueste      2\n",
       "Name: Neighborhood, dtype: int64"
      ]
     },
     "execution_count": 22,
     "metadata": {},
     "output_type": "execute_result"
    }
   ],
   "source": [
    "# # Look at LotShape value counts for binning\n",
    "hp_train_df['Neighborhood'].value_counts()"
   ]
  },
  {
   "cell_type": "code",
   "execution_count": 23,
   "metadata": {},
   "outputs": [
    {
     "name": "stdout",
     "output_type": "stream",
     "text": [
      "Other      872\n",
      "NAmes      225\n",
      "CollgCr    150\n",
      "OldTown    113\n",
      "Edwards    100\n",
      "Name: Neighborhood, dtype: int64\n"
     ]
    }
   ],
   "source": [
    "# Choose a cutoff value for Neighborhood\n",
    "cutoff_value_neighborhood = 100 \n",
    "\n",
    "# Get the counts of each Neighborhood value\n",
    "neighborhood_counts = hp_train_df['Neighborhood'].value_counts()\n",
    "\n",
    "# Identify Neighborhood values to be replaced\n",
    "neighborhood_to_replace = list(neighborhood_counts[neighborhood_counts < cutoff_value_neighborhood].index)\n",
    "\n",
    "# Replace in the DataFrame\n",
    "for neighborhood_value in neighborhood_to_replace:\n",
    "    hp_train_df['Neighborhood'] = hp_train_df['Neighborhood'].replace(neighborhood_value, 'Other')\n",
    "\n",
    "# Check to make sure binning was successful\n",
    "print(hp_train_df['Neighborhood'].value_counts())\n"
   ]
  },
  {
   "cell_type": "markdown",
   "metadata": {},
   "source": [
    "## Bin Condition1"
   ]
  },
  {
   "cell_type": "code",
   "execution_count": 24,
   "metadata": {},
   "outputs": [
    {
     "data": {
      "text/plain": [
       "Norm      1260\n",
       "Feedr       81\n",
       "Artery      48\n",
       "RRAn        26\n",
       "PosN        19\n",
       "RRAe        11\n",
       "PosA         8\n",
       "RRNn         5\n",
       "RRNe         2\n",
       "Name: Condition1, dtype: int64"
      ]
     },
     "execution_count": 24,
     "metadata": {},
     "output_type": "execute_result"
    }
   ],
   "source": [
    "# Look at Condition1 value counts for binning\n",
    "hp_train_df['Condition1'].value_counts()\n"
   ]
  },
  {
   "cell_type": "code",
   "execution_count": 25,
   "metadata": {},
   "outputs": [
    {
     "name": "stdout",
     "output_type": "stream",
     "text": [
      "Norm     1260\n",
      "Other     200\n",
      "Name: Condition1, dtype: int64\n"
     ]
    }
   ],
   "source": [
    "# Choose a cutoff value for Condition1\n",
    "cutoff_value_condition1 = 1000 \n",
    "\n",
    "# Get the counts of each Condition1 value\n",
    "condition1_counts = hp_train_df['Condition1'].value_counts()\n",
    "\n",
    "# Identify Condition1 values to be replaced\n",
    "condition1_to_replace = list(condition1_counts[condition1_counts < cutoff_value_condition1].index)\n",
    "\n",
    "# Replace in the DataFrame\n",
    "for condition1_value in condition1_to_replace:\n",
    "    hp_train_df['Condition1'] = hp_train_df['Condition1'].replace(condition1_value, 'Other')\n",
    "\n",
    "# Check to make sure binning was successful\n",
    "print(hp_train_df['Condition1'].value_counts())\n"
   ]
  },
  {
   "cell_type": "markdown",
   "metadata": {},
   "source": [
    "## Bin Condition2"
   ]
  },
  {
   "cell_type": "code",
   "execution_count": 26,
   "metadata": {},
   "outputs": [
    {
     "data": {
      "text/plain": [
       "Norm      1445\n",
       "Feedr        6\n",
       "Artery       2\n",
       "RRNn         2\n",
       "PosN         2\n",
       "PosA         1\n",
       "RRAn         1\n",
       "RRAe         1\n",
       "Name: Condition2, dtype: int64"
      ]
     },
     "execution_count": 26,
     "metadata": {},
     "output_type": "execute_result"
    }
   ],
   "source": [
    "# Look at Condition2 value counts for binning\n",
    "hp_train_df['Condition2'].value_counts()\n"
   ]
  },
  {
   "cell_type": "code",
   "execution_count": 27,
   "metadata": {},
   "outputs": [
    {
     "name": "stdout",
     "output_type": "stream",
     "text": [
      "Norm     1445\n",
      "Other      15\n",
      "Name: Condition2, dtype: int64\n"
     ]
    }
   ],
   "source": [
    "# Choose a cutoff value for Condition2\n",
    "cutoff_value_condition2 = 1000\n",
    "\n",
    "# Get the counts of each Condition2 value\n",
    "condition2_counts = hp_train_df['Condition2'].value_counts()\n",
    "\n",
    "# Identify Condition2 values to be replaced\n",
    "condition2_to_replace = list(condition2_counts[condition2_counts < cutoff_value_condition2].index)\n",
    "\n",
    "# Replace in the DataFrame\n",
    "for condition2_value in condition2_to_replace:\n",
    "    hp_train_df['Condition2'] = hp_train_df['Condition2'].replace(condition2_value, 'Other')\n",
    "\n",
    "# Check to make sure binning was successful\n",
    "print(hp_train_df['Condition2'].value_counts())\n"
   ]
  },
  {
   "cell_type": "markdown",
   "metadata": {},
   "source": [
    "## Bin HouseStyle"
   ]
  },
  {
   "cell_type": "code",
   "execution_count": 28,
   "metadata": {},
   "outputs": [
    {
     "data": {
      "text/plain": [
       "1Story    726\n",
       "2Story    445\n",
       "1.5Fin    154\n",
       "SLvl       65\n",
       "SFoyer     37\n",
       "1.5Unf     14\n",
       "2.5Unf     11\n",
       "2.5Fin      8\n",
       "Name: HouseStyle, dtype: int64"
      ]
     },
     "execution_count": 28,
     "metadata": {},
     "output_type": "execute_result"
    }
   ],
   "source": [
    "# Look at HouseStyle value counts for binning\n",
    "hp_train_df['HouseStyle'].value_counts()\n"
   ]
  },
  {
   "cell_type": "code",
   "execution_count": 29,
   "metadata": {},
   "outputs": [
    {
     "name": "stdout",
     "output_type": "stream",
     "text": [
      "1Story    726\n",
      "2Story    445\n",
      "Other     289\n",
      "Name: HouseStyle, dtype: int64\n"
     ]
    }
   ],
   "source": [
    "# Choose a cutoff value for HouseStyle\n",
    "cutoff_value_housestyle = 155\n",
    "\n",
    "# Get the counts of each HouseStyle value\n",
    "housestyle_counts = hp_train_df['HouseStyle'].value_counts()\n",
    "\n",
    "# Identify HouseStyle values to be replaced\n",
    "housestyle_to_replace = list(housestyle_counts[housestyle_counts < cutoff_value_housestyle].index)\n",
    "\n",
    "# Replace in the DataFrame\n",
    "for housestyle_value in housestyle_to_replace:\n",
    "    hp_train_df['HouseStyle'] = hp_train_df['HouseStyle'].replace(housestyle_value, 'Other')\n",
    "\n",
    "# Check to make sure binning was successful\n",
    "print(hp_train_df['HouseStyle'].value_counts())\n"
   ]
  },
  {
   "cell_type": "markdown",
   "metadata": {},
   "source": [
    "## Bin OverallQual"
   ]
  },
  {
   "cell_type": "code",
   "execution_count": 30,
   "metadata": {},
   "outputs": [
    {
     "data": {
      "text/plain": [
       "5     397\n",
       "6     374\n",
       "7     319\n",
       "8     168\n",
       "4     116\n",
       "9      43\n",
       "3      20\n",
       "10     18\n",
       "2       3\n",
       "1       2\n",
       "Name: OverallQual, dtype: int64"
      ]
     },
     "execution_count": 30,
     "metadata": {},
     "output_type": "execute_result"
    }
   ],
   "source": [
    "hp_train_df['OverallQual'].value_counts()"
   ]
  },
  {
   "cell_type": "code",
   "execution_count": 31,
   "metadata": {},
   "outputs": [
    {
     "name": "stdout",
     "output_type": "stream",
     "text": [
      "5        397\n",
      "6        374\n",
      "Other    370\n",
      "7        319\n",
      "Name: OverallQual, dtype: int64\n"
     ]
    }
   ],
   "source": [
    "# Choose a cutoff value for OverallQual\n",
    "cutoff_value_overallqual = 170  \n",
    "\n",
    "# Get the counts of each OverallQual value\n",
    "overallqual_counts = hp_train_df['OverallQual'].value_counts()\n",
    "\n",
    "# Identify OverallQual values to be replaced\n",
    "overallqual_to_replace = list(overallqual_counts[overallqual_counts < cutoff_value_overallqual].index)\n",
    "\n",
    "# Replace in the DataFrame\n",
    "for overallqual_value in overallqual_to_replace:\n",
    "    hp_train_df['OverallQual'] = hp_train_df['OverallQual'].replace(overallqual_value, 'Other')\n",
    "\n",
    "# Check to make sure binning was successful\n",
    "print(hp_train_df['OverallQual'].value_counts())\n"
   ]
  },
  {
   "cell_type": "markdown",
   "metadata": {},
   "source": [
    "## Bin OverallCond"
   ]
  },
  {
   "cell_type": "code",
   "execution_count": 32,
   "metadata": {},
   "outputs": [
    {
     "data": {
      "text/plain": [
       "5    821\n",
       "6    252\n",
       "7    205\n",
       "8     72\n",
       "4     57\n",
       "3     25\n",
       "9     22\n",
       "2      5\n",
       "1      1\n",
       "Name: OverallCond, dtype: int64"
      ]
     },
     "execution_count": 32,
     "metadata": {},
     "output_type": "execute_result"
    }
   ],
   "source": [
    "# Display the value counts for 'OverallCond'\n",
    "hp_train_df['OverallCond'].value_counts()"
   ]
  },
  {
   "cell_type": "code",
   "execution_count": 33,
   "metadata": {},
   "outputs": [
    {
     "name": "stdout",
     "output_type": "stream",
     "text": [
      "5        821\n",
      "6        252\n",
      "7        205\n",
      "Other    182\n",
      "Name: OverallCond, dtype: int64\n"
     ]
    }
   ],
   "source": [
    "# Choose a cutoff value for OverallCond\n",
    "cutoff_value_overallcond = 100 \n",
    "\n",
    "# Get the counts of each OverallCond value\n",
    "overallcond_counts = hp_train_df['OverallCond'].value_counts()\n",
    "\n",
    "# Identify OverallCond values to be replaced\n",
    "overallcond_to_replace = list(overallcond_counts[overallcond_counts < cutoff_value_overallcond].index)\n",
    "\n",
    "# Replace in the DataFrame\n",
    "for overallcond_value in overallcond_to_replace:\n",
    "    hp_train_df['OverallCond'] = hp_train_df['OverallCond'].replace(overallcond_value, 'Other')\n",
    "\n",
    "# Check to make sure binning was successful\n",
    "print(hp_train_df['OverallCond'].value_counts())\n"
   ]
  },
  {
   "cell_type": "markdown",
   "metadata": {},
   "source": [
    "## Bin YearBuilt"
   ]
  },
  {
   "cell_type": "code",
   "execution_count": 34,
   "metadata": {},
   "outputs": [],
   "source": [
    "# # Display the value counts for 'YearBuilt'\n",
    "# hp_train_df['YearBuilt'].value_counts()"
   ]
  },
  {
   "cell_type": "code",
   "execution_count": 35,
   "metadata": {},
   "outputs": [],
   "source": [
    "# # Choose a cutoff value for YearBuilt\n",
    "# cutoff_value_yearbuilt = 30  \n",
    "\n",
    "# # Get the counts of each YearBuilt value\n",
    "# yearbuilt_counts = hp_train_df['YearBuilt'].value_counts()\n",
    "\n",
    "# # Identify YearBuilt values to be replaced\n",
    "# yearbuilt_to_replace = list(yearbuilt_counts[yearbuilt_counts < cutoff_value_yearbuilt].index)\n",
    "\n",
    "# # Replace in the DataFrame\n",
    "# for yearbuilt_value in yearbuilt_to_replace:\n",
    "#     hp_train_df['YearBuilt'] = hp_train_df['YearBuilt'].replace(yearbuilt_value, 'Other')\n",
    "\n",
    "# # Check to make sure binning was successful\n",
    "# print(hp_train_df['YearBuilt'].value_counts())\n"
   ]
  },
  {
   "cell_type": "markdown",
   "metadata": {},
   "source": [
    "## Bin YearRemodAdd"
   ]
  },
  {
   "cell_type": "code",
   "execution_count": 36,
   "metadata": {},
   "outputs": [],
   "source": [
    "# # Display the value counts for 'YearRemodAdd'\n",
    "# hp_train_df['YearRemodAdd'].value_counts()"
   ]
  },
  {
   "cell_type": "code",
   "execution_count": 37,
   "metadata": {},
   "outputs": [],
   "source": [
    "# # Choose a cutoff value for YearRemodAdd\n",
    "# cutoff_value_yearremodadd = 20  \n",
    "\n",
    "# # Get the counts of each YearRemodAdd value\n",
    "# yearremodadd_counts = hp_train_df['YearRemodAdd'].value_counts()\n",
    "\n",
    "# # Identify YearRemodAdd values to be replaced\n",
    "# yearremodadd_to_replace = list(yearremodadd_counts[yearremodadd_counts < cutoff_value_yearremodadd].index)\n",
    "\n",
    "# # Replace in the DataFrame\n",
    "# for yearremodadd_value in yearremodadd_to_replace:\n",
    "#     hp_train_df['YearRemodAdd'] = hp_train_df['YearRemodAdd'].replace(yearremodadd_value, 'Other')\n",
    "\n",
    "# # Check to make sure binning was successful\n",
    "# print(hp_train_df['YearRemodAdd'].value_counts())\n"
   ]
  },
  {
   "cell_type": "markdown",
   "metadata": {},
   "source": [
    "## Bin RoofStyle"
   ]
  },
  {
   "cell_type": "code",
   "execution_count": 38,
   "metadata": {},
   "outputs": [
    {
     "data": {
      "text/plain": [
       "Gable      1141\n",
       "Hip         286\n",
       "Flat         13\n",
       "Gambrel      11\n",
       "Mansard       7\n",
       "Shed          2\n",
       "Name: RoofStyle, dtype: int64"
      ]
     },
     "execution_count": 38,
     "metadata": {},
     "output_type": "execute_result"
    }
   ],
   "source": [
    "# Display the value counts for 'RoofStyle'\n",
    "hp_train_df['RoofStyle'].value_counts()"
   ]
  },
  {
   "cell_type": "code",
   "execution_count": 39,
   "metadata": {},
   "outputs": [
    {
     "name": "stdout",
     "output_type": "stream",
     "text": [
      "Gable    1141\n",
      "Hip       286\n",
      "Other      33\n",
      "Name: RoofStyle, dtype: int64\n"
     ]
    }
   ],
   "source": [
    "# Choose a cutoff value for RoofStyle\n",
    "cutoff_value_roofstyle = 15 \n",
    "\n",
    "# Get the counts of each RoofStyle value\n",
    "roofstyle_counts = hp_train_df['RoofStyle'].value_counts()\n",
    "\n",
    "# Identify RoofStyle values to be replaced\n",
    "roofstyle_to_replace = list(roofstyle_counts[roofstyle_counts < cutoff_value_roofstyle].index)\n",
    "\n",
    "# Replace in the DataFrame\n",
    "for roofstyle_value in roofstyle_to_replace:\n",
    "    hp_train_df['RoofStyle'] = hp_train_df['RoofStyle'].replace(roofstyle_value, 'Other')\n",
    "\n",
    "# Check to make sure binning was successful\n",
    "print(hp_train_df['RoofStyle'].value_counts())\n"
   ]
  },
  {
   "cell_type": "markdown",
   "metadata": {},
   "source": [
    "## Bin RoofMatl"
   ]
  },
  {
   "cell_type": "code",
   "execution_count": 40,
   "metadata": {},
   "outputs": [
    {
     "data": {
      "text/plain": [
       "CompShg    1434\n",
       "Tar&Grv      11\n",
       "WdShngl       6\n",
       "WdShake       5\n",
       "Metal         1\n",
       "Membran       1\n",
       "Roll          1\n",
       "ClyTile       1\n",
       "Name: RoofMatl, dtype: int64"
      ]
     },
     "execution_count": 40,
     "metadata": {},
     "output_type": "execute_result"
    }
   ],
   "source": [
    "# Display the value counts for 'RoofMatl'\n",
    "hp_train_df['RoofMatl'].value_counts()"
   ]
  },
  {
   "cell_type": "code",
   "execution_count": 41,
   "metadata": {},
   "outputs": [
    {
     "name": "stdout",
     "output_type": "stream",
     "text": [
      "CompShg    1434\n",
      "Other        26\n",
      "Name: RoofMatl, dtype: int64\n"
     ]
    }
   ],
   "source": [
    "# Choose a cutoff value for RoofMatl\n",
    "cutoff_value_roofmatl = 12\n",
    "\n",
    "# Get the counts of each RoofMatl value\n",
    "roofmatl_counts = hp_train_df['RoofMatl'].value_counts()\n",
    "\n",
    "# Identify RoofMatl values to be replaced\n",
    "roofmatl_to_replace = list(roofmatl_counts[roofmatl_counts < cutoff_value_roofmatl].index)\n",
    "\n",
    "# Replace in the DataFrame\n",
    "for roofmatl_value in roofmatl_to_replace:\n",
    "    hp_train_df['RoofMatl'] = hp_train_df['RoofMatl'].replace(roofmatl_value, 'Other')\n",
    "\n",
    "# Check to make sure binning was successful\n",
    "print(hp_train_df['RoofMatl'].value_counts())\n"
   ]
  },
  {
   "cell_type": "markdown",
   "metadata": {},
   "source": [
    "## Bin Exterior1st"
   ]
  },
  {
   "cell_type": "code",
   "execution_count": 42,
   "metadata": {},
   "outputs": [
    {
     "data": {
      "text/plain": [
       "VinylSd    515\n",
       "HdBoard    222\n",
       "MetalSd    220\n",
       "Wd Sdng    206\n",
       "Plywood    108\n",
       "CemntBd     61\n",
       "BrkFace     50\n",
       "WdShing     26\n",
       "Stucco      25\n",
       "AsbShng     20\n",
       "BrkComm      2\n",
       "Stone        2\n",
       "AsphShn      1\n",
       "ImStucc      1\n",
       "CBlock       1\n",
       "Name: Exterior1st, dtype: int64"
      ]
     },
     "execution_count": 42,
     "metadata": {},
     "output_type": "execute_result"
    }
   ],
   "source": [
    "# Display the value counts for 'Exterior1st'\n",
    "hp_train_df['Exterior1st'].value_counts()"
   ]
  },
  {
   "cell_type": "code",
   "execution_count": 43,
   "metadata": {},
   "outputs": [
    {
     "name": "stdout",
     "output_type": "stream",
     "text": [
      "VinylSd    515\n",
      "Other      297\n",
      "HdBoard    222\n",
      "MetalSd    220\n",
      "Wd Sdng    206\n",
      "Name: Exterior1st, dtype: int64\n"
     ]
    }
   ],
   "source": [
    "# Choose a cutoff value for Exterior1st\n",
    "cutoff_value_exterior1st = 200\n",
    "\n",
    "# Get the counts of each Exterior1st value\n",
    "exterior1st_counts = hp_train_df['Exterior1st'].value_counts()\n",
    "\n",
    "# Identify Exterior1st values to be replaced\n",
    "exterior1st_to_replace = list(exterior1st_counts[exterior1st_counts < cutoff_value_exterior1st].index)\n",
    "\n",
    "# Replace in the DataFrame\n",
    "for exterior1st_value in exterior1st_to_replace:\n",
    "    hp_train_df['Exterior1st'] = hp_train_df['Exterior1st'].replace(exterior1st_value, 'Other')\n",
    "\n",
    "# Check to make sure binning was successful\n",
    "print(hp_train_df['Exterior1st'].value_counts())\n"
   ]
  },
  {
   "cell_type": "markdown",
   "metadata": {},
   "source": [
    "## Bin Exterior2nd"
   ]
  },
  {
   "cell_type": "code",
   "execution_count": 44,
   "metadata": {},
   "outputs": [
    {
     "data": {
      "text/plain": [
       "VinylSd    504\n",
       "MetalSd    214\n",
       "HdBoard    207\n",
       "Wd Sdng    197\n",
       "Plywood    142\n",
       "CmentBd     60\n",
       "Wd Shng     38\n",
       "Stucco      26\n",
       "BrkFace     25\n",
       "AsbShng     20\n",
       "ImStucc     10\n",
       "Brk Cmn      7\n",
       "Stone        5\n",
       "AsphShn      3\n",
       "Other        1\n",
       "CBlock       1\n",
       "Name: Exterior2nd, dtype: int64"
      ]
     },
     "execution_count": 44,
     "metadata": {},
     "output_type": "execute_result"
    }
   ],
   "source": [
    "# Display the value counts for 'Exterior2nd'\n",
    "hp_train_df['Exterior2nd'].value_counts()"
   ]
  },
  {
   "cell_type": "code",
   "execution_count": 45,
   "metadata": {},
   "outputs": [
    {
     "name": "stdout",
     "output_type": "stream",
     "text": [
      "Other      535\n",
      "VinylSd    504\n",
      "MetalSd    214\n",
      "HdBoard    207\n",
      "Name: Exterior2nd, dtype: int64\n"
     ]
    }
   ],
   "source": [
    "# Choose a cutoff value for Exterior2nd\n",
    "cutoff_value_exterior2nd = 200  \n",
    "\n",
    "# Get the counts of each Exterior2nd value\n",
    "exterior2nd_counts = hp_train_df['Exterior2nd'].value_counts()\n",
    "\n",
    "# Identify Exterior2nd values to be replaced\n",
    "exterior2nd_to_replace = list(exterior2nd_counts[exterior2nd_counts < cutoff_value_exterior2nd].index)\n",
    "\n",
    "# Replace in the DataFrame\n",
    "for exterior2nd_value in exterior2nd_to_replace:\n",
    "    hp_train_df['Exterior2nd'] = hp_train_df['Exterior2nd'].replace(exterior2nd_value, 'Other')\n",
    "\n",
    "# Check to make sure binning was successful\n",
    "print(hp_train_df['Exterior2nd'].value_counts())\n"
   ]
  },
  {
   "cell_type": "markdown",
   "metadata": {},
   "source": [
    "## Bin MasVnrArea"
   ]
  },
  {
   "cell_type": "code",
   "execution_count": 46,
   "metadata": {},
   "outputs": [
    {
     "data": {
      "text/plain": [
       "0.0      869\n",
       "180.0      8\n",
       "72.0       8\n",
       "108.0      8\n",
       "120.0      7\n",
       "        ... \n",
       "562.0      1\n",
       "89.0       1\n",
       "921.0      1\n",
       "762.0      1\n",
       "119.0      1\n",
       "Name: MasVnrArea, Length: 327, dtype: int64"
      ]
     },
     "execution_count": 46,
     "metadata": {},
     "output_type": "execute_result"
    }
   ],
   "source": [
    "# Display the value counts for 'MasVnrArea'\n",
    "hp_train_df['MasVnrArea'].value_counts()"
   ]
  },
  {
   "cell_type": "code",
   "execution_count": 47,
   "metadata": {},
   "outputs": [
    {
     "name": "stdout",
     "output_type": "stream",
     "text": [
      "0.0      869\n",
      "Other    591\n",
      "Name: MasVnrArea, dtype: int64\n"
     ]
    }
   ],
   "source": [
    "# Choose a cutoff value for MasVnrArea\n",
    "cutoff_value_masvnrarea = 10 \n",
    "\n",
    "# Get the counts of each MasVnrArea value\n",
    "masvnrarea_counts = hp_train_df['MasVnrArea'].value_counts()\n",
    "\n",
    "# Identify MasVnrArea values to be replaced\n",
    "masvnrarea_to_replace = list(masvnrarea_counts[masvnrarea_counts < cutoff_value_masvnrarea].index)\n",
    "\n",
    "# Replace in the DataFrame\n",
    "for masvnrarea_value in masvnrarea_to_replace:\n",
    "    hp_train_df['MasVnrArea'] = hp_train_df['MasVnrArea'].replace(masvnrarea_value, 'Other')\n",
    "\n",
    "# Check to make sure binning was successful\n",
    "print(hp_train_df['MasVnrArea'].value_counts())\n"
   ]
  },
  {
   "cell_type": "code",
   "execution_count": null,
   "metadata": {},
   "outputs": [],
   "source": []
  },
  {
   "cell_type": "markdown",
   "metadata": {},
   "source": [
    "## Data Preprocessing for Test Data"
   ]
  },
  {
   "cell_type": "code",
   "execution_count": 48,
   "metadata": {},
   "outputs": [
    {
     "name": "stdout",
     "output_type": "stream",
     "text": [
      "Training Dataset Info:\n",
      "<class 'pandas.core.frame.DataFrame'>\n",
      "RangeIndex: 1459 entries, 0 to 1458\n",
      "Data columns (total 80 columns):\n",
      " #   Column         Non-Null Count  Dtype  \n",
      "---  ------         --------------  -----  \n",
      " 0   Id             1459 non-null   int64  \n",
      " 1   MSSubClass     1459 non-null   int64  \n",
      " 2   MSZoning       1455 non-null   object \n",
      " 3   LotFrontage    1232 non-null   float64\n",
      " 4   LotArea        1459 non-null   int64  \n",
      " 5   Street         1459 non-null   object \n",
      " 6   Alley          107 non-null    object \n",
      " 7   LotShape       1459 non-null   object \n",
      " 8   LandContour    1459 non-null   object \n",
      " 9   Utilities      1457 non-null   object \n",
      " 10  LotConfig      1459 non-null   object \n",
      " 11  LandSlope      1459 non-null   object \n",
      " 12  Neighborhood   1459 non-null   object \n",
      " 13  Condition1     1459 non-null   object \n",
      " 14  Condition2     1459 non-null   object \n",
      " 15  BldgType       1459 non-null   object \n",
      " 16  HouseStyle     1459 non-null   object \n",
      " 17  OverallQual    1459 non-null   int64  \n",
      " 18  OverallCond    1459 non-null   int64  \n",
      " 19  YearBuilt      1459 non-null   int64  \n",
      " 20  YearRemodAdd   1459 non-null   int64  \n",
      " 21  RoofStyle      1459 non-null   object \n",
      " 22  RoofMatl       1459 non-null   object \n",
      " 23  Exterior1st    1458 non-null   object \n",
      " 24  Exterior2nd    1458 non-null   object \n",
      " 25  MasVnrType     1443 non-null   object \n",
      " 26  MasVnrArea     1444 non-null   float64\n",
      " 27  ExterQual      1459 non-null   object \n",
      " 28  ExterCond      1459 non-null   object \n",
      " 29  Foundation     1459 non-null   object \n",
      " 30  BsmtQual       1415 non-null   object \n",
      " 31  BsmtCond       1414 non-null   object \n",
      " 32  BsmtExposure   1415 non-null   object \n",
      " 33  BsmtFinType1   1417 non-null   object \n",
      " 34  BsmtFinSF1     1458 non-null   float64\n",
      " 35  BsmtFinType2   1417 non-null   object \n",
      " 36  BsmtFinSF2     1458 non-null   float64\n",
      " 37  BsmtUnfSF      1458 non-null   float64\n",
      " 38  TotalBsmtSF    1458 non-null   float64\n",
      " 39  Heating        1459 non-null   object \n",
      " 40  HeatingQC      1459 non-null   object \n",
      " 41  CentralAir     1459 non-null   object \n",
      " 42  Electrical     1459 non-null   object \n",
      " 43  1stFlrSF       1459 non-null   int64  \n",
      " 44  2ndFlrSF       1459 non-null   int64  \n",
      " 45  LowQualFinSF   1459 non-null   int64  \n",
      " 46  GrLivArea      1459 non-null   int64  \n",
      " 47  BsmtFullBath   1457 non-null   float64\n",
      " 48  BsmtHalfBath   1457 non-null   float64\n",
      " 49  FullBath       1459 non-null   int64  \n",
      " 50  HalfBath       1459 non-null   int64  \n",
      " 51  BedroomAbvGr   1459 non-null   int64  \n",
      " 52  KitchenAbvGr   1459 non-null   int64  \n",
      " 53  KitchenQual    1458 non-null   object \n",
      " 54  TotRmsAbvGrd   1459 non-null   int64  \n",
      " 55  Functional     1457 non-null   object \n",
      " 56  Fireplaces     1459 non-null   int64  \n",
      " 57  FireplaceQu    729 non-null    object \n",
      " 58  GarageType     1383 non-null   object \n",
      " 59  GarageYrBlt    1381 non-null   float64\n",
      " 60  GarageFinish   1381 non-null   object \n",
      " 61  GarageCars     1458 non-null   float64\n",
      " 62  GarageArea     1458 non-null   float64\n",
      " 63  GarageQual     1381 non-null   object \n",
      " 64  GarageCond     1381 non-null   object \n",
      " 65  PavedDrive     1459 non-null   object \n",
      " 66  WoodDeckSF     1459 non-null   int64  \n",
      " 67  OpenPorchSF    1459 non-null   int64  \n",
      " 68  EnclosedPorch  1459 non-null   int64  \n",
      " 69  3SsnPorch      1459 non-null   int64  \n",
      " 70  ScreenPorch    1459 non-null   int64  \n",
      " 71  PoolArea       1459 non-null   int64  \n",
      " 72  PoolQC         3 non-null      object \n",
      " 73  Fence          290 non-null    object \n",
      " 74  MiscFeature    51 non-null     object \n",
      " 75  MiscVal        1459 non-null   int64  \n",
      " 76  MoSold         1459 non-null   int64  \n",
      " 77  YrSold         1459 non-null   int64  \n",
      " 78  SaleType       1458 non-null   object \n",
      " 79  SaleCondition  1459 non-null   object \n",
      "dtypes: float64(11), int64(26), object(43)\n",
      "memory usage: 912.0+ KB\n",
      "None\n"
     ]
    }
   ],
   "source": [
    "# Display basic information about the testing dataset\n",
    "print(\"Training Dataset Info:\")\n",
    "print(hp_test_df.info())"
   ]
  },
  {
   "cell_type": "code",
   "execution_count": 49,
   "metadata": {},
   "outputs": [
    {
     "name": "stdout",
     "output_type": "stream",
     "text": [
      "Columns with Missing Values:\n",
      "MSZoning           4\n",
      "LotFrontage      227\n",
      "Alley           1352\n",
      "Utilities          2\n",
      "Exterior1st        1\n",
      "Exterior2nd        1\n",
      "MasVnrType        16\n",
      "MasVnrArea        15\n",
      "BsmtQual          44\n",
      "BsmtCond          45\n",
      "BsmtExposure      44\n",
      "BsmtFinType1      42\n",
      "BsmtFinSF1         1\n",
      "BsmtFinType2      42\n",
      "BsmtFinSF2         1\n",
      "BsmtUnfSF          1\n",
      "TotalBsmtSF        1\n",
      "BsmtFullBath       2\n",
      "BsmtHalfBath       2\n",
      "KitchenQual        1\n",
      "Functional         2\n",
      "FireplaceQu      730\n",
      "GarageType        76\n",
      "GarageYrBlt       78\n",
      "GarageFinish      78\n",
      "GarageCars         1\n",
      "GarageArea         1\n",
      "GarageQual        78\n",
      "GarageCond        78\n",
      "PoolQC          1456\n",
      "Fence           1169\n",
      "MiscFeature     1408\n",
      "SaleType           1\n",
      "dtype: int64\n"
     ]
    }
   ],
   "source": [
    "# Display columns with missing values and their counts\n",
    "missing_values = hp_test_df.isnull().sum()\n",
    "missing_columns = missing_values[missing_values > 0]\n",
    "print(\"Columns with Missing Values:\")\n",
    "print(missing_columns)\n"
   ]
  },
  {
   "cell_type": "markdown",
   "metadata": {},
   "source": [
    "## Handle Null Values for hp_test_df"
   ]
  },
  {
   "cell_type": "code",
   "execution_count": 50,
   "metadata": {},
   "outputs": [],
   "source": [
    "# Handle missing values\n",
    "# Dropping columns with a high percentage of missing values  >1000\n",
    "## Only 'FireplaceQu' have 690\n",
    "columns = ['Alley', 'FireplaceQu', 'PoolQC', 'Fence', 'MiscFeature']\n",
    "hp_test_df.drop(columns=columns, inplace=True)\n"
   ]
  },
  {
   "cell_type": "code",
   "execution_count": 51,
   "metadata": {},
   "outputs": [
    {
     "name": "stdout",
     "output_type": "stream",
     "text": [
      "Columns with Missing Values:\n",
      "MSZoning          4\n",
      "LotFrontage     227\n",
      "Utilities         2\n",
      "Exterior1st       1\n",
      "Exterior2nd       1\n",
      "MasVnrType       16\n",
      "MasVnrArea       15\n",
      "BsmtQual         44\n",
      "BsmtCond         45\n",
      "BsmtExposure     44\n",
      "BsmtFinType1     42\n",
      "BsmtFinSF1        1\n",
      "BsmtFinType2     42\n",
      "BsmtFinSF2        1\n",
      "BsmtUnfSF         1\n",
      "TotalBsmtSF       1\n",
      "BsmtFullBath      2\n",
      "BsmtHalfBath      2\n",
      "KitchenQual       1\n",
      "Functional        2\n",
      "GarageType       76\n",
      "GarageYrBlt      78\n",
      "GarageFinish     78\n",
      "GarageCars        1\n",
      "GarageArea        1\n",
      "GarageQual       78\n",
      "GarageCond       78\n",
      "SaleType          1\n",
      "dtype: int64\n"
     ]
    }
   ],
   "source": [
    "# Reveiw the columns after dropping 5 columns wiht high percentages of missing value\n",
    "missing_values = hp_test_df.isnull().sum()\n",
    "missing_columns = missing_values[missing_values > 0]\n",
    "print(\"Columns with Missing Values:\")\n",
    "print(missing_columns)\n"
   ]
  },
  {
   "cell_type": "markdown",
   "metadata": {},
   "source": [
    "## Impute Missing Values hp_test_df"
   ]
  },
  {
   "cell_type": "code",
   "execution_count": 52,
   "metadata": {},
   "outputs": [],
   "source": [
    "# # Impute missing values in numerical columns with the mean\n",
    "# hp_test_df.fillna(hp_test_df.mean(), inplace=True)\n",
    "\n",
    "# # Impute missing values in categorical columns with the mode\n",
    "# hp_test_df.fillna(hp_test_df.mode().iloc[0], inplace=True)\n"
   ]
  },
  {
   "cell_type": "code",
   "execution_count": 53,
   "metadata": {},
   "outputs": [],
   "source": [
    "# Convert 'LotFrontage' to int\n",
    "# hp_test_df['LotFrontage'] = hp_test_df['LotFrontage'].astype(int)"
   ]
  },
  {
   "cell_type": "markdown",
   "metadata": {},
   "source": [
    "## Review hp_test_df for missing values"
   ]
  },
  {
   "cell_type": "code",
   "execution_count": 54,
   "metadata": {},
   "outputs": [
    {
     "name": "stdout",
     "output_type": "stream",
     "text": [
      "Columns with Missing Values:\n",
      "MSZoning          4\n",
      "LotFrontage     227\n",
      "Utilities         2\n",
      "Exterior1st       1\n",
      "Exterior2nd       1\n",
      "MasVnrType       16\n",
      "MasVnrArea       15\n",
      "BsmtQual         44\n",
      "BsmtCond         45\n",
      "BsmtExposure     44\n",
      "BsmtFinType1     42\n",
      "BsmtFinSF1        1\n",
      "BsmtFinType2     42\n",
      "BsmtFinSF2        1\n",
      "BsmtUnfSF         1\n",
      "TotalBsmtSF       1\n",
      "BsmtFullBath      2\n",
      "BsmtHalfBath      2\n",
      "KitchenQual       1\n",
      "Functional        2\n",
      "GarageType       76\n",
      "GarageYrBlt      78\n",
      "GarageFinish     78\n",
      "GarageCars        1\n",
      "GarageArea        1\n",
      "GarageQual       78\n",
      "GarageCond       78\n",
      "SaleType          1\n",
      "dtype: int64\n"
     ]
    }
   ],
   "source": [
    "# Reveiw the columns after:\n",
    "# dropping columns wiht high percentages of missing value\n",
    "# Fill null values with imputation strategy\n",
    "\n",
    "missing_values = hp_test_df.isnull().sum()\n",
    "missing_columns = missing_values[missing_values > 0]\n",
    "print(\"Columns with Missing Values:\")\n",
    "print(missing_columns)\n"
   ]
  },
  {
   "cell_type": "markdown",
   "metadata": {},
   "source": [
    "## Check duplicates for hp_test_df"
   ]
  },
  {
   "cell_type": "code",
   "execution_count": 55,
   "metadata": {},
   "outputs": [
    {
     "data": {
      "text/plain": [
       "Id               1459\n",
       "MSSubClass         16\n",
       "MSZoning            5\n",
       "LotFrontage       115\n",
       "LotArea          1106\n",
       "                 ... \n",
       "MiscVal            26\n",
       "MoSold             12\n",
       "YrSold              5\n",
       "SaleType            9\n",
       "SaleCondition       6\n",
       "Length: 75, dtype: int64"
      ]
     },
     "execution_count": 55,
     "metadata": {},
     "output_type": "execute_result"
    }
   ],
   "source": [
    "# Check the number of unique values in each column\n",
    "hp_test_df.nunique()"
   ]
  },
  {
   "cell_type": "code",
   "execution_count": 56,
   "metadata": {},
   "outputs": [
    {
     "name": "stdout",
     "output_type": "stream",
     "text": [
      "No duplicate rows based on 'Id' column.\n"
     ]
    }
   ],
   "source": [
    "# Check for duplicated values in the 'Id' column\n",
    "subset_columns = ['Id']\n",
    "duplicate_rows_subset = hp_test_df[hp_test_df.duplicated(subset=subset_columns)]\n",
    "if duplicate_rows_subset.empty:\n",
    "    print(\"No duplicate rows based on 'Id' column.\")\n",
    "else:\n",
    "    print(\"Duplicate rows based on 'Id' column:\")\n",
    "    print(duplicate_rows_subset)\n"
   ]
  },
  {
   "cell_type": "markdown",
   "metadata": {},
   "source": [
    "## Convert necessary columns to appropriate data types"
   ]
  },
  {
   "cell_type": "code",
   "execution_count": 57,
   "metadata": {},
   "outputs": [],
   "source": [
    "# Convert necessary columns to appropriate data types\n",
    "hp_test_df['MSSubClass'] = hp_test_df['MSSubClass'].astype('category')\n",
    "hp_test_df['MSZoning'] = hp_test_df['MSZoning'].astype('category')\n",
    "hp_test_df['Street'] = hp_test_df['Street'].astype('category')\n",
    "hp_test_df['LotShape'] = hp_test_df['LotShape'].astype('category')\n",
    "hp_test_df['LandContour'] = hp_test_df['LandContour'].astype('category')\n"
   ]
  },
  {
   "cell_type": "markdown",
   "metadata": {},
   "source": [
    "# Review the train & test cleaned dataframes"
   ]
  },
  {
   "cell_type": "code",
   "execution_count": 58,
   "metadata": {},
   "outputs": [
    {
     "data": {
      "text/html": [
       "<div>\n",
       "<style scoped>\n",
       "    .dataframe tbody tr th:only-of-type {\n",
       "        vertical-align: middle;\n",
       "    }\n",
       "\n",
       "    .dataframe tbody tr th {\n",
       "        vertical-align: top;\n",
       "    }\n",
       "\n",
       "    .dataframe thead th {\n",
       "        text-align: right;\n",
       "    }\n",
       "</style>\n",
       "<table border=\"1\" class=\"dataframe\">\n",
       "  <thead>\n",
       "    <tr style=\"text-align: right;\">\n",
       "      <th></th>\n",
       "      <th>Id</th>\n",
       "      <th>MSSubClass</th>\n",
       "      <th>MSZoning</th>\n",
       "      <th>LotFrontage</th>\n",
       "      <th>LotArea</th>\n",
       "      <th>Street</th>\n",
       "      <th>Alley</th>\n",
       "      <th>LotShape</th>\n",
       "      <th>LandContour</th>\n",
       "      <th>Utilities</th>\n",
       "      <th>...</th>\n",
       "      <th>PoolArea</th>\n",
       "      <th>PoolQC</th>\n",
       "      <th>Fence</th>\n",
       "      <th>MiscFeature</th>\n",
       "      <th>MiscVal</th>\n",
       "      <th>MoSold</th>\n",
       "      <th>YrSold</th>\n",
       "      <th>SaleType</th>\n",
       "      <th>SaleCondition</th>\n",
       "      <th>SalePrice</th>\n",
       "    </tr>\n",
       "  </thead>\n",
       "  <tbody>\n",
       "    <tr>\n",
       "      <th>0</th>\n",
       "      <td>1</td>\n",
       "      <td>60</td>\n",
       "      <td>RL</td>\n",
       "      <td>65</td>\n",
       "      <td>8450</td>\n",
       "      <td>Pave</td>\n",
       "      <td>None</td>\n",
       "      <td>Reg</td>\n",
       "      <td>Lvl</td>\n",
       "      <td>AllPub</td>\n",
       "      <td>...</td>\n",
       "      <td>0</td>\n",
       "      <td>None</td>\n",
       "      <td>None</td>\n",
       "      <td>None</td>\n",
       "      <td>0</td>\n",
       "      <td>2</td>\n",
       "      <td>2008</td>\n",
       "      <td>WD</td>\n",
       "      <td>Normal</td>\n",
       "      <td>208500</td>\n",
       "    </tr>\n",
       "    <tr>\n",
       "      <th>1</th>\n",
       "      <td>2</td>\n",
       "      <td>20</td>\n",
       "      <td>RL</td>\n",
       "      <td>80</td>\n",
       "      <td>9600</td>\n",
       "      <td>Pave</td>\n",
       "      <td>None</td>\n",
       "      <td>Reg</td>\n",
       "      <td>Lvl</td>\n",
       "      <td>AllPub</td>\n",
       "      <td>...</td>\n",
       "      <td>0</td>\n",
       "      <td>None</td>\n",
       "      <td>None</td>\n",
       "      <td>None</td>\n",
       "      <td>0</td>\n",
       "      <td>5</td>\n",
       "      <td>2007</td>\n",
       "      <td>WD</td>\n",
       "      <td>Normal</td>\n",
       "      <td>181500</td>\n",
       "    </tr>\n",
       "    <tr>\n",
       "      <th>2</th>\n",
       "      <td>3</td>\n",
       "      <td>60</td>\n",
       "      <td>RL</td>\n",
       "      <td>Other</td>\n",
       "      <td>11250</td>\n",
       "      <td>Pave</td>\n",
       "      <td>None</td>\n",
       "      <td>IR1</td>\n",
       "      <td>Lvl</td>\n",
       "      <td>AllPub</td>\n",
       "      <td>...</td>\n",
       "      <td>0</td>\n",
       "      <td>None</td>\n",
       "      <td>None</td>\n",
       "      <td>None</td>\n",
       "      <td>0</td>\n",
       "      <td>9</td>\n",
       "      <td>2008</td>\n",
       "      <td>WD</td>\n",
       "      <td>Normal</td>\n",
       "      <td>223500</td>\n",
       "    </tr>\n",
       "    <tr>\n",
       "      <th>3</th>\n",
       "      <td>4</td>\n",
       "      <td>70</td>\n",
       "      <td>RL</td>\n",
       "      <td>60</td>\n",
       "      <td>9550</td>\n",
       "      <td>Pave</td>\n",
       "      <td>None</td>\n",
       "      <td>IR1</td>\n",
       "      <td>Lvl</td>\n",
       "      <td>AllPub</td>\n",
       "      <td>...</td>\n",
       "      <td>0</td>\n",
       "      <td>None</td>\n",
       "      <td>None</td>\n",
       "      <td>None</td>\n",
       "      <td>0</td>\n",
       "      <td>2</td>\n",
       "      <td>2006</td>\n",
       "      <td>WD</td>\n",
       "      <td>Abnorml</td>\n",
       "      <td>140000</td>\n",
       "    </tr>\n",
       "    <tr>\n",
       "      <th>4</th>\n",
       "      <td>5</td>\n",
       "      <td>60</td>\n",
       "      <td>RL</td>\n",
       "      <td>Other</td>\n",
       "      <td>14260</td>\n",
       "      <td>Pave</td>\n",
       "      <td>None</td>\n",
       "      <td>IR1</td>\n",
       "      <td>Lvl</td>\n",
       "      <td>AllPub</td>\n",
       "      <td>...</td>\n",
       "      <td>0</td>\n",
       "      <td>None</td>\n",
       "      <td>None</td>\n",
       "      <td>None</td>\n",
       "      <td>0</td>\n",
       "      <td>12</td>\n",
       "      <td>2008</td>\n",
       "      <td>WD</td>\n",
       "      <td>Normal</td>\n",
       "      <td>250000</td>\n",
       "    </tr>\n",
       "  </tbody>\n",
       "</table>\n",
       "<p>5 rows × 81 columns</p>\n",
       "</div>"
      ],
      "text/plain": [
       "   Id MSSubClass MSZoning LotFrontage  LotArea Street Alley LotShape  \\\n",
       "0   1         60       RL          65     8450   Pave  None      Reg   \n",
       "1   2         20       RL          80     9600   Pave  None      Reg   \n",
       "2   3         60       RL       Other    11250   Pave  None      IR1   \n",
       "3   4         70       RL          60     9550   Pave  None      IR1   \n",
       "4   5         60       RL       Other    14260   Pave  None      IR1   \n",
       "\n",
       "  LandContour Utilities  ... PoolArea PoolQC Fence MiscFeature MiscVal MoSold  \\\n",
       "0         Lvl    AllPub  ...        0   None  None        None       0      2   \n",
       "1         Lvl    AllPub  ...        0   None  None        None       0      5   \n",
       "2         Lvl    AllPub  ...        0   None  None        None       0      9   \n",
       "3         Lvl    AllPub  ...        0   None  None        None       0      2   \n",
       "4         Lvl    AllPub  ...        0   None  None        None       0     12   \n",
       "\n",
       "  YrSold SaleType SaleCondition  SalePrice  \n",
       "0   2008       WD        Normal     208500  \n",
       "1   2007       WD        Normal     181500  \n",
       "2   2008       WD        Normal     223500  \n",
       "3   2006       WD       Abnorml     140000  \n",
       "4   2008       WD        Normal     250000  \n",
       "\n",
       "[5 rows x 81 columns]"
      ]
     },
     "execution_count": 58,
     "metadata": {},
     "output_type": "execute_result"
    }
   ],
   "source": [
    "# Display the resulting DataFrame\n",
    "hp_train_df.head()"
   ]
  },
  {
   "cell_type": "code",
   "execution_count": 59,
   "metadata": {},
   "outputs": [
    {
     "data": {
      "text/html": [
       "<div>\n",
       "<style scoped>\n",
       "    .dataframe tbody tr th:only-of-type {\n",
       "        vertical-align: middle;\n",
       "    }\n",
       "\n",
       "    .dataframe tbody tr th {\n",
       "        vertical-align: top;\n",
       "    }\n",
       "\n",
       "    .dataframe thead th {\n",
       "        text-align: right;\n",
       "    }\n",
       "</style>\n",
       "<table border=\"1\" class=\"dataframe\">\n",
       "  <thead>\n",
       "    <tr style=\"text-align: right;\">\n",
       "      <th></th>\n",
       "      <th>Id</th>\n",
       "      <th>MSSubClass</th>\n",
       "      <th>MSZoning</th>\n",
       "      <th>LotFrontage</th>\n",
       "      <th>LotArea</th>\n",
       "      <th>Street</th>\n",
       "      <th>LotShape</th>\n",
       "      <th>LandContour</th>\n",
       "      <th>Utilities</th>\n",
       "      <th>LotConfig</th>\n",
       "      <th>...</th>\n",
       "      <th>OpenPorchSF</th>\n",
       "      <th>EnclosedPorch</th>\n",
       "      <th>3SsnPorch</th>\n",
       "      <th>ScreenPorch</th>\n",
       "      <th>PoolArea</th>\n",
       "      <th>MiscVal</th>\n",
       "      <th>MoSold</th>\n",
       "      <th>YrSold</th>\n",
       "      <th>SaleType</th>\n",
       "      <th>SaleCondition</th>\n",
       "    </tr>\n",
       "  </thead>\n",
       "  <tbody>\n",
       "    <tr>\n",
       "      <th>0</th>\n",
       "      <td>1461</td>\n",
       "      <td>20</td>\n",
       "      <td>RH</td>\n",
       "      <td>80.0</td>\n",
       "      <td>11622</td>\n",
       "      <td>Pave</td>\n",
       "      <td>Reg</td>\n",
       "      <td>Lvl</td>\n",
       "      <td>AllPub</td>\n",
       "      <td>Inside</td>\n",
       "      <td>...</td>\n",
       "      <td>0</td>\n",
       "      <td>0</td>\n",
       "      <td>0</td>\n",
       "      <td>120</td>\n",
       "      <td>0</td>\n",
       "      <td>0</td>\n",
       "      <td>6</td>\n",
       "      <td>2010</td>\n",
       "      <td>WD</td>\n",
       "      <td>Normal</td>\n",
       "    </tr>\n",
       "    <tr>\n",
       "      <th>1</th>\n",
       "      <td>1462</td>\n",
       "      <td>20</td>\n",
       "      <td>RL</td>\n",
       "      <td>81.0</td>\n",
       "      <td>14267</td>\n",
       "      <td>Pave</td>\n",
       "      <td>IR1</td>\n",
       "      <td>Lvl</td>\n",
       "      <td>AllPub</td>\n",
       "      <td>Corner</td>\n",
       "      <td>...</td>\n",
       "      <td>36</td>\n",
       "      <td>0</td>\n",
       "      <td>0</td>\n",
       "      <td>0</td>\n",
       "      <td>0</td>\n",
       "      <td>12500</td>\n",
       "      <td>6</td>\n",
       "      <td>2010</td>\n",
       "      <td>WD</td>\n",
       "      <td>Normal</td>\n",
       "    </tr>\n",
       "    <tr>\n",
       "      <th>2</th>\n",
       "      <td>1463</td>\n",
       "      <td>60</td>\n",
       "      <td>RL</td>\n",
       "      <td>74.0</td>\n",
       "      <td>13830</td>\n",
       "      <td>Pave</td>\n",
       "      <td>IR1</td>\n",
       "      <td>Lvl</td>\n",
       "      <td>AllPub</td>\n",
       "      <td>Inside</td>\n",
       "      <td>...</td>\n",
       "      <td>34</td>\n",
       "      <td>0</td>\n",
       "      <td>0</td>\n",
       "      <td>0</td>\n",
       "      <td>0</td>\n",
       "      <td>0</td>\n",
       "      <td>3</td>\n",
       "      <td>2010</td>\n",
       "      <td>WD</td>\n",
       "      <td>Normal</td>\n",
       "    </tr>\n",
       "    <tr>\n",
       "      <th>3</th>\n",
       "      <td>1464</td>\n",
       "      <td>60</td>\n",
       "      <td>RL</td>\n",
       "      <td>78.0</td>\n",
       "      <td>9978</td>\n",
       "      <td>Pave</td>\n",
       "      <td>IR1</td>\n",
       "      <td>Lvl</td>\n",
       "      <td>AllPub</td>\n",
       "      <td>Inside</td>\n",
       "      <td>...</td>\n",
       "      <td>36</td>\n",
       "      <td>0</td>\n",
       "      <td>0</td>\n",
       "      <td>0</td>\n",
       "      <td>0</td>\n",
       "      <td>0</td>\n",
       "      <td>6</td>\n",
       "      <td>2010</td>\n",
       "      <td>WD</td>\n",
       "      <td>Normal</td>\n",
       "    </tr>\n",
       "    <tr>\n",
       "      <th>4</th>\n",
       "      <td>1465</td>\n",
       "      <td>120</td>\n",
       "      <td>RL</td>\n",
       "      <td>43.0</td>\n",
       "      <td>5005</td>\n",
       "      <td>Pave</td>\n",
       "      <td>IR1</td>\n",
       "      <td>HLS</td>\n",
       "      <td>AllPub</td>\n",
       "      <td>Inside</td>\n",
       "      <td>...</td>\n",
       "      <td>82</td>\n",
       "      <td>0</td>\n",
       "      <td>0</td>\n",
       "      <td>144</td>\n",
       "      <td>0</td>\n",
       "      <td>0</td>\n",
       "      <td>1</td>\n",
       "      <td>2010</td>\n",
       "      <td>WD</td>\n",
       "      <td>Normal</td>\n",
       "    </tr>\n",
       "  </tbody>\n",
       "</table>\n",
       "<p>5 rows × 75 columns</p>\n",
       "</div>"
      ],
      "text/plain": [
       "     Id MSSubClass MSZoning  LotFrontage  LotArea Street LotShape LandContour  \\\n",
       "0  1461         20       RH         80.0    11622   Pave      Reg         Lvl   \n",
       "1  1462         20       RL         81.0    14267   Pave      IR1         Lvl   \n",
       "2  1463         60       RL         74.0    13830   Pave      IR1         Lvl   \n",
       "3  1464         60       RL         78.0     9978   Pave      IR1         Lvl   \n",
       "4  1465        120       RL         43.0     5005   Pave      IR1         HLS   \n",
       "\n",
       "  Utilities LotConfig  ... OpenPorchSF EnclosedPorch 3SsnPorch ScreenPorch  \\\n",
       "0    AllPub    Inside  ...           0             0         0         120   \n",
       "1    AllPub    Corner  ...          36             0         0           0   \n",
       "2    AllPub    Inside  ...          34             0         0           0   \n",
       "3    AllPub    Inside  ...          36             0         0           0   \n",
       "4    AllPub    Inside  ...          82             0         0         144   \n",
       "\n",
       "  PoolArea MiscVal  MoSold  YrSold  SaleType  SaleCondition  \n",
       "0        0       0       6    2010        WD         Normal  \n",
       "1        0   12500       6    2010        WD         Normal  \n",
       "2        0       0       3    2010        WD         Normal  \n",
       "3        0       0       6    2010        WD         Normal  \n",
       "4        0       0       1    2010        WD         Normal  \n",
       "\n",
       "[5 rows x 75 columns]"
      ]
     },
     "execution_count": 59,
     "metadata": {},
     "output_type": "execute_result"
    }
   ],
   "source": [
    "# Display the resulting DataFrame\n",
    "hp_test_df.head()"
   ]
  },
  {
   "cell_type": "markdown",
   "metadata": {},
   "source": [
    "# Export the cleaned data to CSV "
   ]
  },
  {
   "cell_type": "code",
   "execution_count": 60,
   "metadata": {},
   "outputs": [],
   "source": [
    "hp_train_df.to_json('../1_Initial_Preprocessed_Data/initial_preprocessed_hp_train.json', orient='records', lines=True)\n",
    "hp_train_df.to_csv('../1_Initial_Preprocessed_Data/initial_preprocessed_hp_train.csv', index=False)"
   ]
  },
  {
   "cell_type": "code",
   "execution_count": 61,
   "metadata": {},
   "outputs": [],
   "source": [
    "hp_test_df.to_json('../1_Initial_Preprocessed_Data/initial_preprocessed_hp_test.json', orient='records', lines=True)\n",
    "hp_test_df.to_csv('../1_Initial_Preprocessed_Data/initial_preprocessed_hp_test.csv', index=False)"
   ]
  },
  {
   "cell_type": "code",
   "execution_count": null,
   "metadata": {},
   "outputs": [],
   "source": []
  },
  {
   "cell_type": "code",
   "execution_count": null,
   "metadata": {},
   "outputs": [],
   "source": []
  }
 ],
 "metadata": {
  "anaconda-cloud": {},
  "kernelspec": {
   "display_name": "Python 3 (ipykernel)",
   "language": "python",
   "name": "python3"
  },
  "language_info": {
   "codemirror_mode": {
    "name": "ipython",
    "version": 3
   },
   "file_extension": ".py",
   "mimetype": "text/x-python",
   "name": "python",
   "nbconvert_exporter": "python",
   "pygments_lexer": "ipython3",
   "version": "3.11.4"
  }
 },
 "nbformat": 4,
 "nbformat_minor": 4
}
